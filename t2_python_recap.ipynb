{
 "cells": [
  {
   "cell_type": "markdown",
   "id": "ca03f054-0625-4554-a7ea-c7e2672e1f00",
   "metadata": {
    "slideshow": {
     "slide_type": "slide"
    }
   },
   "source": [
    "<font size=6>\n",
    "\n",
    "<b>Curso de Análisis de Datos con Python</b>\n",
    "</font>\n",
    "\n",
    "<font size=4>\n",
    "    \n",
    "Curso de formación interna, CIEMAT. <br/>\n",
    "Madrid, Octubre de 2021\n",
    "\n",
    "Antonio Delgado Peris y Cristina Labajo Villaverde\n",
    "</font>\n",
    "\n",
    "https://github.com/andelpe/curso-intro-python/\n",
    "\n",
    "<br/>"
   ]
  },
  {
   "cell_type": "markdown",
   "id": "d4db444d-423b-4612-bea9-45820dae9dce",
   "metadata": {},
   "source": [
    "# Tema 2 - Programación en Python"
   ]
  },
  {
   "cell_type": "markdown",
   "id": "668633b6-15e5-42f4-bddc-535672200859",
   "metadata": {},
   "source": [
    "## Objetivos\n",
    "\n",
    "- Repasar los conceptos fundamentales del lenguaje Python.\n",
    "\n",
    "- Hacer hincapié en las estructuras y funcionalidades más útiles para el resto del curso. "
   ]
  },
  {
   "cell_type": "markdown",
   "id": "98767446-616d-4387-a4be-7069a5f01a88",
   "metadata": {},
   "source": [
    "## Objetos de datos y atributos\n",
    "\n",
    "En python cualquier _dato_ (o _valor_) es un objeto:\n",
    "    \n",
    "- Números, listas, funciones, clases...\n",
    "\n",
    "Los objetos tienen atributos (miembros):\n",
    "\n",
    "- Datos\n",
    "\n",
    "  - Información útil para el objeto\n",
    "\n",
    "\n",
    "- Métodos (funciones)\n",
    "\n",
    "  - Operaciones sobre el propio objeto\n",
    "\n",
    "![objeto](images/t2_objeto.png)\n",
    "\n",
    "Los atributos son accesibles con la notación `objeto.atributo`"
   ]
  },
  {
   "cell_type": "markdown",
   "id": "55d0449c-052b-46ca-9cb3-2877bd7df111",
   "metadata": {},
   "source": [
    "Podemos inspeccionar los atributos de un objeto de varias maneras:\n",
    "- Funciones de introspección: `dir`, `help`\n",
    "- Ayudas del interpréte/IDE/entorno: `TAB`, `SHIFT+TAB`, `magic ?`\n",
    "- Documentación"
   ]
  },
  {
   "cell_type": "markdown",
   "id": "14563782-440e-436e-92b7-b831dc513307",
   "metadata": {},
   "source": [
    "### Tipos y variables\n",
    "\n",
    "Todo objeto de datos tiene un tipo asociado.\n",
    "- En general, no hay conversión de tipos automático (solo en casos concretos).\n",
    "- Los operadores varían de función según el tipo de datos sobre el que actúan."
   ]
  },
  {
   "cell_type": "markdown",
   "id": "b734f258-5624-4fa0-928c-d14b5dbec1c6",
   "metadata": {},
   "source": [
    "Una variable _referencia_ un objeto de datos\n",
    "- Cuando se usa una variable, se usa el objeto referenciado\n",
    "- Las variables NO tienen un tipo asociado\n",
    "  - No se declaran (no se les asigna un tipo)\n",
    "  - _Parecen_ tener el tipo del objeto al que referencian"
   ]
  },
  {
   "cell_type": "code",
   "execution_count": null,
   "id": "668398fe-4f88-4d4a-84d1-fea1ff9ed8bb",
   "metadata": {
    "tags": []
   },
   "outputs": [],
   "source": [
    "a = '3'\n",
    "print(\"Tipo de  3 \", type(3))\n",
    "print(\"Tipo de 'a'\", type(a))\n",
    "print(3 + int(a))\n",
    "print(str(3) + a)\n",
    "print(3 + a)"
   ]
  },
  {
   "cell_type": "markdown",
   "id": "be13f073-3cb6-472c-b113-15c5deb12af3",
   "metadata": {
    "tags": []
   },
   "source": [
    "### Tipos de datos incorporados (_built-in_)\n",
    "\n",
    "Son tipos de datos disponibles de inicio\n",
    "\n",
    "- Suelen ser más eficientes que los definidos por los usuarios\n",
    "- Extensibles (por nuevas _clases_)\n",
    "\n",
    "Estos tipos son (entre otros):\n",
    "\n",
    "- Números: `int`, `float`, `complex`\n",
    "\n",
    "  - Algunos especiales: `float('nan')`, `float('inf')`, `float('-inf')`\n",
    "\n",
    "\n",
    "- Booleans: `False`, `True`\n",
    "\n",
    "  - Evaluación de una comparación o expresión lógica, o un objeto Python: `if X: print(...)`\n",
    "  - Todos los objetos se evalúan a `True` excepto `False`, `None`, `0`, secuencias vacías...\n",
    "\n",
    "\n",
    "- Nulo: `None`\n",
    "\n",
    "- Strings (`str`): `\"abcdef\"`\n",
    "\n",
    "  - Cadenas (iterables) _inmutables_ de caracteres\n",
    "  - La manera recomendad de incluir variables y formatos son las _fstrings_: `f\"...\"`\n",
    "\n",
    "```python \n",
    "    a, b = 1, 3\n",
    "    print('a es', a, ' b es', b, ' y su cociente es', a/b)\n",
    "    print(f'a es {a}, b es {b}, y su cociente es {a/b:.2f}')\n",
    "```\n",
    "```\n",
    "    a es 1  b es 3  y su cociente es 0.3333333333333333\n",
    "    a es 1, b es 3, y su cociente es 0.33\n",
    "```\n",
    "\n",
    "- Ficheros:\n",
    "\n",
    "  - Objetos de tipo `file` devueltos por la función `open`\n",
    "  - Soportan operaciones con _strings_: `read, readline, readlines, write`\n",
    "  - Para manejar otros tipos de datos es conveniente usar `json`, `yaml`, `pickle` o similares\n",
    "  \n",
    "    - `json` y `yaml` son estándares, y pueden incluir números, strings, listas y diccionarios\n",
    "    - `pickle` es exclusivo de Python, puede almacenar cualquier objeto (p.ej. de usuario), ¡incluido código!\n",
    "  \n",
    "```python\n",
    "    with open('myfile.txt') as f:\n",
    "        for line in f:\n",
    "            print(line.strip())\n",
    "\n",
    "    with open('myfile.txt', 'w') as f:\n",
    "        json.dump(mydict)\n",
    "```\n",
    "\n",
    "\n",
    "- Otros: secuencias, diccionarios, ficheros, clases, módulos, funciones, tipos..."
   ]
  },
  {
   "cell_type": "markdown",
   "id": "9875406f-52df-4b7d-8a8a-814a438eeec4",
   "metadata": {},
   "source": [
    "### Referencias compartidas\n",
    "\n",
    "Es importante distinguir entre variables y objetos"
   ]
  },
  {
   "cell_type": "code",
   "execution_count": null,
   "id": "829b1b3c-232b-4f08-a8b0-fa37fa12eed3",
   "metadata": {},
   "outputs": [],
   "source": [
    "a = [0, 1]  # Objeto lista, con dos elementos 0 y 1\n",
    "b = a       # La variable 'b' apunta al objeto apuntado por 'a'"
   ]
  },
  {
   "cell_type": "markdown",
   "id": "447250f9-42f5-4bc3-92d3-5f288a77ada9",
   "metadata": {},
   "source": [
    "![t2_refs_1](images/t2_refs_1.png)\n",
    "\n",
    "Podemos usar los operadores `==` y `is`:\n",
    "- `==`: Compara el _valor_ de los operandos\n",
    "- `is`: Compara la _identidad_, es decir, si los dos operandos son el mismo objeto en memoria"
   ]
  },
  {
   "cell_type": "code",
   "execution_count": null,
   "id": "44442c80-843c-40d6-af7f-ed316bcd454e",
   "metadata": {},
   "outputs": [],
   "source": [
    "a == b, a is b"
   ]
  },
  {
   "cell_type": "code",
   "execution_count": null,
   "id": "f6c84940-6e58-4112-9033-07bc9858ef8a",
   "metadata": {},
   "outputs": [],
   "source": [
    "b[0] = 5  # Modificamos un elemento de 'b'"
   ]
  },
  {
   "cell_type": "markdown",
   "id": "9d7cecfb-3793-4faa-beec-ab71ded608b3",
   "metadata": {},
   "source": [
    "![t2_refs_2](images/t2_refs_2.png)\n"
   ]
  },
  {
   "cell_type": "code",
   "execution_count": null,
   "id": "31a7d420-d8dd-4421-b7c6-6f919cc973ef",
   "metadata": {},
   "outputs": [],
   "source": [
    "print(a == b,  a is b)\n",
    "print(a)"
   ]
  },
  {
   "cell_type": "code",
   "execution_count": null,
   "id": "8ebdf6d0-0940-49b2-ae36-5bbc36d27e12",
   "metadata": {},
   "outputs": [],
   "source": [
    "b = [5, 1]"
   ]
  },
  {
   "cell_type": "markdown",
   "id": "4caaf12d-8e42-4f35-a3d3-bc622d342943",
   "metadata": {},
   "source": [
    "![t2_refs_3](images/t2_refs_3.png)\n"
   ]
  },
  {
   "cell_type": "code",
   "execution_count": null,
   "id": "c062e73a-52b4-46dd-a26e-c632aa169852",
   "metadata": {},
   "outputs": [],
   "source": [
    "print(a == b,  a is b)\n",
    "print(id(a))\n",
    "print(id(b))"
   ]
  },
  {
   "cell_type": "markdown",
   "id": "38753eca-5b76-433b-b0eb-b113bc904063",
   "metadata": {},
   "source": [
    "### Gestión de memoria\n",
    "\n",
    "La gestión de memoria es realizada por python automáticamente\n",
    "- Menos eficiente, pero mucho más sencillo y menos propenso a errores que los sistemas de gestión explícita\n",
    "\n",
    "Cuando el número de referencias a un objeto llega a 0, el objeto es eliminado\n",
    "- Las referencias pueden eliminarse por _scope_ (dejan de ser _visibles_)...\n",
    "- ... o con la instrucción `del` (infrecuente)"
   ]
  },
  {
   "cell_type": "markdown",
   "id": "0ead84aa-f82c-437b-89dc-c25b63d75951",
   "metadata": {},
   "source": [
    "## Expresiones y sentencias\n",
    "\n",
    "Una _expresión_ es una porción de código que se evalúa a un valor.\n",
    "\n",
    " - Una expresión simple es una constante (numérica o string), o una variable: `3`, `'a'`, `var`\n",
    " - Las expresiones se relacionan por medio de operadores y funciones, creando expresiones más complejas\n",
    " \n",
    "Una _sentencia_ es una instrucción que python puede interpretar (ejecutar)\n",
    "\n",
    "- Las expresiones forman parte de sentencias\n",
    "- Existen sentencias simples y compuestas (involucrando varias sentencias simples)"
   ]
  },
  {
   "cell_type": "markdown",
   "id": "e0bec3df-bb61-4da1-b8b1-740db10e5540",
   "metadata": {},
   "source": [
    "### Algunas sentencias en Python\n",
    "\n",
    "- **Asignación**: `variable = expresión`\n",
    "\n",
    "  - Enlaza (_bind_) una variable con un valor\n",
    "  - Para objetos modificables, también sirve para alterar su contenido (p.ej. `milista[2] = 5`)\n",
    "\n",
    "\n",
    "- **Condicional IF**: Control de flujo en función de la evaluación de ciertas condiciones:\n",
    "\n",
    "```python\n",
    "      if <condicion>:\n",
    "          sentencia\n",
    "          ...\n",
    "      elif <otra condicion>:\n",
    "          ...  \n",
    "      else:\n",
    "          ...      \n",
    "```\n",
    "\n",
    "- **Bucles**:\n",
    "\n",
    "  - **FOR**: Recorre los elementos de un _iterable_ y ejecuta repetidamente las instrucciones indicadas\n",
    "  \n",
    "  ```python\n",
    "  \n",
    "      for <variable> in <iterable>:\n",
    "        sentencia\n",
    "        ...\n",
    "        \n",
    "  ```\n",
    "\n",
    "  - **WHILE**: Itera en base a una condición\n",
    "  \n",
    "  ```python\n",
    "  \n",
    "      while <condicion-es-True>:\n",
    "        sentencia\n",
    "        ...   \n",
    "        \n",
    "  ```\n",
    "\n",
    "  - **BREAK** y **CONTINUE**: Alteran la ejecución normal de un bucle\n",
    "  \n",
    "    - `break` provoca que acabe el bucle actual, y se pase a la instrucción que sigue al bucle.\n",
    "\n",
    "    - `continue` salta a la siguiente iteración, sin ejecutar las instrucciones que faltan de la  actual."
   ]
  },
  {
   "cell_type": "markdown",
   "id": "d13ce526-ce65-4c8f-a86f-6990eb140925",
   "metadata": {
    "tags": []
   },
   "source": [
    "## Iterables, secuencias y diccionarios"
   ]
  },
  {
   "cell_type": "markdown",
   "id": "0a18f26b-046d-4578-845d-771e181d54d9",
   "metadata": {
    "tags": []
   },
   "source": [
    "### Iterables\n",
    "\n",
    "Un _iterable_ en Python es un objeto que puede recorrerse elemento a elemento.\n",
    "\n",
    "- Ejemplos de iterables son las secuencias (listas, tuplas, etc.), pero también los diccionarios, y otros.\n",
    "\n",
    "- Muchas funciones o operadores son capaces de actuar sobre un iterable, no importa qué otras características tenga (p.ej. `len`)\n",
    "\n",
    "- Nota: una función _generador_ es similar a un iterable, en cuanto a que va ofreciendo elementos uno a uno, pero de forma _perezosa_ (solo produce los elementos conforme se van pidiendo)."
   ]
  },
  {
   "cell_type": "markdown",
   "id": "e5aa99ec-e64c-4b04-a2bf-cbfce60e3aa7",
   "metadata": {},
   "source": [
    "### Secuencias\n",
    "\n",
    "Las secuencias son contenedores de elementos, iterables.\n",
    "\n",
    "- _Listas_ (mutables) y _tuplas_ (inmutables): cualquier tipo de elementos, ordenadas, y con repetición.\n",
    "\n",
    "```python\n",
    "t = ('a', 'b', 'c')    #  t = 'a', 'b', 'c'\n",
    "l = ['a', 'b', 'c']\n",
    "l[1] = 'x'\n",
    "l[ini:end:step]\n",
    "if 'j' in l...\n",
    "l.append('d')\n",
    "l + l + l    # l*3\n",
    "```\n",
    "\n",
    "- _Ranges_: inmutables, ordenadas, solo enteros, de evaluación perezosa: \n",
    "\n",
    "```python\n",
    "for val in range(5):  print(val)\n",
    "```\n",
    "\n",
    "- _Sets_ (mutables) y _frozensets_ (inmutables): cualquier tipo de elementos, sin order ni repetición.\n",
    "\n",
    "```python\n",
    "s = {0, 0, 2, 1, 1}\n",
    "print(s)\n",
    "```\n",
    "```\n",
    "{0, 1, 2}\n",
    "```\n",
    "\n",
    "- _Strings_: secuencias inmutables de caracteres"
   ]
  },
  {
   "cell_type": "markdown",
   "id": "89c026f9-bbf2-41a4-aa17-a4c92e6f4ddd",
   "metadata": {},
   "source": [
    "<div style=\"background-color:powderblue;\">\n",
    "\n",
    "**EJERCICIO e2_1:** \n",
    "    \n",
    "- Usando `for`, crear  una lista con una letra de cada dos del string `s` dado.\n",
    "    \n",
    "- Convertir la lista a un string usando el método `str.join`.\n",
    "\n",
    "- Producir ahora un nuevo string compuesto por la mitad de los caractéres del string anterior, repetidos 10 veces, con el separador intermedio `'--'`."
   ]
  },
  {
   "cell_type": "code",
   "execution_count": null,
   "id": "33e91488-382e-4573-a22c-c44d13ede69d",
   "metadata": {},
   "outputs": [],
   "source": [
    "s = 'Exsxtxax xexsx xmxix xfxrxaxsxex xsxexcxrxextxax'"
   ]
  },
  {
   "cell_type": "markdown",
   "id": "dbbe5352-e052-45b6-8f46-7b23d52f4ea5",
   "metadata": {},
   "source": [
    "### Diccionarios\n",
    "\n",
    "Iterables que asocian claves y valores (mapas, _hash arrays_).\n",
    "\n",
    "- Las claves deben ser inmutables (enteros, strings, tuplas).\n",
    "- Los valores pueden ser cualquier tipo de objeto.\n",
    "- Cuando se recorre (itera) un diccionario, se recorren las claves.\n",
    "  - *Desde Python 3.7:* el orden de las claves es el de inserción (previamente estaba indefinido)"
   ]
  },
  {
   "cell_type": "code",
   "execution_count": null,
   "id": "d9a34647-a23b-4753-9b2a-d025cecc9a27",
   "metadata": {
    "tags": []
   },
   "outputs": [],
   "source": [
    "d = {'a': 1, 'b': 5}\n",
    "d = dict(a=1, b=5)\n",
    "\n",
    "print(d['a'])\n",
    "d['c'] = 10\n",
    "\n",
    "print()\n",
    "for k in d:  \n",
    "    print(k, '-->', d[k])\n",
    "  \n",
    "print()\n",
    "for k, x in d.items():  \n",
    "    print(k, '-->', x)\n",
    "\n",
    "print()\n",
    "for x in d.values():\n",
    "    print(x)"
   ]
  },
  {
   "cell_type": "markdown",
   "id": "bf6f5650-02b5-4987-aaed-5a462b29b73c",
   "metadata": {},
   "source": [
    "<div style=\"background-color:powderblue;\">\n",
    "\n",
    "**EJERCICIO e2_2:** \n",
    "\n",
    "- Leer el fichero de entrada `data/notas.txt` que contiene una asignatura y una nota por cada línea. Crear un diccionario que contenga como claves las asignaturas y como valores las notas.\n",
    "\n",
    "- Usando _fstrings_, mostrar por pantalla la siguiente línea por cada asignatura: `En la <asignatura> has obtenido <nota>`, sustituyendo apropiadamente el nombre de la asignatura y la nota para cada una.\n",
    "\n",
    "- Repetir el punto anterior, pero añadiendo al final de la línea la palabra `Aprobado`, si la nota es mayor de 5, y `Suspendido` si es menor."
   ]
  },
  {
   "cell_type": "markdown",
   "id": "f2a6c1c0-63cc-4b8b-8ba3-d898873e5cbb",
   "metadata": {
    "tags": []
   },
   "source": [
    "### Más sobre iterables\n",
    "\n",
    "#### Funciones útiles\n",
    "\n",
    "- `len(iterable)`: longitud (número de elementos)\n",
    "\n",
    "- `enumerate(iterable)`: devuelve una tupla (índice, elemento) para cada posición\n",
    "\n",
    "```python\n",
    "for idx, elem  in enumerate(l): ...\n",
    "```\n",
    "\n",
    "- `zip(iter1, iter2...)`: en cada iteración devuelve una tupla con un elemento de cada iterable\n",
    "\n",
    "```python\n",
    "for x1, x2  in zip(lista1, lista2): ...\n",
    "```"
   ]
  },
  {
   "cell_type": "markdown",
   "id": "4a094ad0-0c90-44fe-a6d1-0e1093651fc4",
   "metadata": {},
   "source": [
    "- `object.copy()`: (en muchos objetos comunes). Devuelve una copia _superficial_ (no recursiva) del objeto\n",
    "\n",
    "  - Si los elementos son modificables, entonces un cambio en uno de ellos afectará al iterable original y a su copia.\n",
    "\n",
    "\n",
    "  ![copy](images/t2_copy.png)\n",
    "\n",
    "  - Existe un módulo `copy`, con métodos para copia genérica, superficial y profunda (recursiva) de objetos Python.\n",
    "\n",
    "  - Si los elementos son inmutables (enteros, strings, tuplas...), los dos tipos de copias son equivalentes.\n"
   ]
  },
  {
   "cell_type": "markdown",
   "id": "03856919-185e-409e-9394-c20b7d6b8003",
   "metadata": {},
   "source": [
    "#### Comprenhentions\n",
    "\n",
    "Expresiones concisas para generar listas, diccionarios y generadores.\n",
    "\n",
    "```python\n",
    "[expr(x)  for x in iterable]\n",
    "\n",
    "{expr1(x): expr2(x)  for x in iterable}\n",
    "\n",
    "(expr(x)  for x in iterable)\n",
    "```\n",
    "\n",
    "Existe una forma algo más compleja:\n",
    "```python\n",
    "[<expr(x,y)>  for x in I1   for y in I2   if <cond(x,y)>]\n",
    "```"
   ]
  },
  {
   "cell_type": "code",
   "execution_count": null,
   "id": "d9b140bc-cec3-460e-a90b-1aa434704f6b",
   "metadata": {
    "tags": []
   },
   "outputs": [],
   "source": [
    "strings = ['this', 'and', 'those']\n",
    "l1 = [len(s) for s in strings]\n",
    "g1 = (len(s) for s in strings)\n",
    "\n",
    "print('List:', l1)\n",
    "print('Generator:', g1)\n",
    "\n",
    "print('\\Iteration on generator:')\n",
    "for x in g1:  print(x)\n",
    "\n",
    "d1 = {x+1: x**2 for x in (2, 4, 6)}\n",
    "print('\\nDict:', d1)\n"
   ]
  },
  {
   "cell_type": "markdown",
   "id": "cdfd4c8d-d3cf-4ca6-bdfb-f3d6b344edfe",
   "metadata": {},
   "source": [
    "<div style=\"background-color:powderblue;\">\n",
    "\n",
    "**EJERCICIO e2_3:** \n",
    "    \n",
    "Sin usar `for` ni `while`:\n",
    "    \n",
    "- Repetir el primer punto del ejercicio `e2_1`.\n",
    "\n",
    "- Generar el string `s` del ejercicio `e2_1` a partir del string dado `s0`."
   ]
  },
  {
   "cell_type": "markdown",
   "id": "a65b106c-7cc8-465a-9c95-ef3955386a62",
   "metadata": {
    "tags": []
   },
   "source": [
    "## Funciones y módulos"
   ]
  },
  {
   "cell_type": "markdown",
   "id": "dccd15bd-bcab-4032-8c45-a9018ba12ce6",
   "metadata": {},
   "source": [
    "### Funciones en Python\n",
    "\n",
    "Una función es un bloque de instrucciones que se ejecutan cuando la función es llamada: `mi_funcion(args)`\n",
    "\n",
    "Se definen (se crea un _objeto función_) con la sentencia `def`:\n",
    "\n",
    "```python\n",
    "def mi_funcion(arg1, arg2, ...):\n",
    "    instruccion\n",
    "    instruccion\n",
    "    return ...\n",
    "```\n",
    "La sentencia `return` especifica el valor devuelto por la función (si no aparece, es `None`)"
   ]
  },
  {
   "cell_type": "markdown",
   "id": "2a844442-b35b-44e7-9709-e352e2975467",
   "metadata": {},
   "source": [
    "#### Argumentos de funciones\n",
    "\n",
    "Los argumentos de una función de Python se _pasan por asignación_ (equivalente a _por referencia_).\n",
    "\n",
    "- El valor pasado _se asigna_ a una variable local dentro de la función (no se hace una copia)\n",
    "- Si el valor es modificable, y se modifica, la variable externa verá el mismo cambio\n",
    "- Como las variables no tienen tipo, tampoco lo tienen los argumentos de una función"
   ]
  },
  {
   "cell_type": "markdown",
   "id": "dd5aff9b-d70e-49be-b375-c8c9e27f928a",
   "metadata": {},
   "source": [
    "Formas de pasar argumentos:\n",
    "\n",
    "- Por posición: `f(3, 4)`\n",
    "- Nombrados: `f(x=3, y=4)`  (siempre después de los de posición)\n",
    "- Expandidos (siempre después de los no expandidos)\n",
    "  - `f(*(3, 4))` equivale a `f(3, 4)`\n",
    "  - `f(**{x:3, y:4}` equivale a `f(x=3, y=4)`"
   ]
  },
  {
   "cell_type": "markdown",
   "id": "8c1ed0e1-93b0-4462-941e-ac3d4811c29b",
   "metadata": {},
   "source": [
    "Formas de recoger argumentos:\n",
    "\n",
    "- Argumentos con valores por defecto (si no son especificados por el llamante): `def f1(a1, a2=0)` \n",
    "- Resto de argumentos recogidos en una tupla: `def f2(a1, *rest)`\n",
    "- Resto de argumentos _nombrados_ recogidos en un diccionario: `def f3(a1, **res)`\n",
    "- Combinación de las anteriores: `def f3(a1, a2=3, *vrest, **drest)`"
   ]
  },
  {
   "cell_type": "markdown",
   "id": "ee3448ee-a480-4af7-ad2a-ac59ab3cc316",
   "metadata": {},
   "source": [
    "<div style=\"background-color:powderblue;\">\n",
    "\n",
    "**EJERCICIO e2_4:** \n",
    "    \n",
    "Escribir una función `f` que reciba un primer argumento `a1` obligatorio, un segundo `a2` optativo (con valor por defecto _None_, y un número arbitrario de argumentos nombrados (_keywords_). La función deberá mostrar los argumentos recibidos, y su valor, en una línea diferente para cada uno.\n",
    "    \n",
    "Probarla con las llamadas mostradas a continuación."
   ]
  },
  {
   "cell_type": "code",
   "execution_count": null,
   "id": "01978889-d905-414c-91b7-ef4ff1cc87ec",
   "metadata": {},
   "outputs": [],
   "source": [
    "f(1)\n",
    "f(1, 2)\n",
    "f(1, 2, juan=35, pepe='verde')\n",
    "f(a1=1, juan=35, pepe='verde')\n",
    "d = {'juan': 35, 'pepe': 'verde'}\n",
    "f(a1=1, a2=2, **d)"
   ]
  },
  {
   "cell_type": "markdown",
   "id": "8393370b-ee88-4a3c-a4ee-033507e19d17",
   "metadata": {},
   "source": [
    "### Namespace y scope\n",
    "\n",
    "Los _namespaces_ dividen el conjunto de identificadores de objetos, de manera que sea posible repetir el mismo nombre en dos espacios independientes, sin que haya colisión.\n",
    "\n",
    "Python define muchos espacios de nombres diferentes: el de un módulo, el de una función (variables locales), el _built-in_...\n",
    "\n",
    "Una variable siempre puede identificarse como: `namespace.identificador`, p.ej: `math.log` o `__builtins__.print`.\n",
    "\n",
    "El _scope_ de un identificador (variable) define en qué partes del programa es accesible, sin indicar el namespace (usando el prefijo). En ese caso, una variable se busca primero en el namespace local (función), luego en el global (módulo), y luego en el _built-in_ (siempre accesible).\n",
    "\n",
    "La sentencia `global <variable>` permite indicar que nos referimos a una variable global, y no a la local."
   ]
  },
  {
   "cell_type": "markdown",
   "id": "bcadd7bb-2786-4f7a-9946-06aa8a928c29",
   "metadata": {},
   "source": [
    "### Módulos y paquetes\n",
    "\n",
    "#### Módulos\n",
    "\n",
    "Un módulo es un fichero que agrupa código Python. Habitualmente, un módulo `foo` corresponde al fichero `foo.py`, aunque también puede ser un fichero compilado, `foo.so`).\n",
    "\n",
    "Un módulo crea su propio espacio de nombres, que se hace accesible al importar el módulo (`import`), y accedemos a sus objetos con la notación `modulo.objeto`\n",
    "\n",
    "El código de un módulo consiste principalmente en definiciones de objetos, para su reutilización, pero puede incluir cualquier tipo de instrucción (p.ej. de inicialización, o para usarlo como _script_), y se ejecuta la primera vez que se llama a `import`."
   ]
  },
  {
   "cell_type": "code",
   "execution_count": null,
   "id": "c46f812d-a5ad-4182-8427-63f74601d4f2",
   "metadata": {},
   "outputs": [],
   "source": [
    "import math         # Ligamos el identificador 'math' al namespace del módulo\n",
    "print(math.pi)      # Accedemos al objeto `pi` en ese namespace\n",
    "\n",
    "import math as mod  # Ligamos el identificador 'mod' al namespace del módulo 'math'\n",
    "print(mod.pi)\n",
    "\n",
    "from math import pi as PI   # Ligamos el id 'PI' al objeto 'pi' del módulo 'math'\n",
    "print(PI)"
   ]
  },
  {
   "cell_type": "markdown",
   "id": "3f71895e-fe8c-4790-b690-42e4d689a4e3",
   "metadata": {
    "tags": []
   },
   "source": [
    "**Búsqueda de módulos**\n",
    "\n",
    "Cuando se usa la instrucción `import`, el módulo se busca primero en los _built-in_. Si no se encuentra, se busca en los directorios contenidos en la variable `sys.path`. Esta variable contiene:\n",
    "\n",
    "- El directorio del script en ejecución\n",
    "- Los directorios de la variable de entorno `PYTHONPATH`\n",
    "- Los directorios por defecto de la instalación (librerías del sistema)\n",
    "\n",
    "Nota: si definimos módulos con el mismo nombre que los del sistema (en el directorio actual o `$PYTHONPATH`), ocultaremos los del sistema."
   ]
  },
  {
   "cell_type": "markdown",
   "id": "db94bf4d-7201-4788-983c-9c2f14528fbb",
   "metadata": {},
   "source": [
    "#### Paquetes\n",
    "\n",
    "Los paquetes son agrupaciones de módulos.\n",
    "\n",
    "- Físicamente, se corresponden con directorios que albergan ficheros `.py`\n",
    "\n",
    "      mypack/__init__.py\n",
    "      mypack/mymod1.py\n",
    "      mypack/subpack/__init__.py  \n",
    "      mypack/subpack/mymod1.py\n",
    "\n",
    "\n",
    "- Desde el punto de vista lógico, organizan jerárquicamente los namespaces: \n",
    "\n",
    "  ```python\n",
    "  import  mypack.mymod1\n",
    "  mypack.mymod1.some_function()\n",
    "\n",
    "  from  mypack.subpack  import  mymod1\n",
    "  mymod1.other_func()\n",
    "\n",
    "  ```"
   ]
  },
  {
   "cell_type": "markdown",
   "id": "2d4b6b78-52b0-4507-9e2a-bff39f7c4153",
   "metadata": {},
   "source": [
    "## Clases y objetos"
   ]
  },
  {
   "cell_type": "markdown",
   "id": "28caa8ca-0ac5-4bb2-9aa7-e274421be794",
   "metadata": {
    "tags": []
   },
   "source": [
    "### Programación orientada a objetos\n",
    "\n",
    "La programación orientada a objetos (O.O.P.) es un modelo (paradigma) de programación en el que se agrupan datos y funciones en objetos que pertenecen a clases (tipos definidos por el programador). Además, la encapsulación de código en los objetos permite ocultar los detalles de la implementación tras el interfaz.\n",
    "\n",
    "En Python, usar O.O.P como estilo de programación es opcional. Aunque implícitamente siempre usamos clases y objetos, no siempre optamos por definir nuevas clases (al contrario p.ej. de Java)."
   ]
  },
  {
   "cell_type": "markdown",
   "id": "49bef42a-3615-4853-b458-4eee8047a2a1",
   "metadata": {},
   "source": [
    "### Clases e instancias\n",
    "\n",
    "Las clases definen un _tipo_ de objetos\n",
    "\n",
    "- Crean su propio namespace\n",
    "- Definen atributos (miembros): \n",
    "  - Datos\n",
    "  - Funciones (métodos)\n",
    "    \n",
    "Las _instancias_ de una clase son los _objetos_, cuyo tipo es esa clase.\n",
    "  \n",
    "Ya hemos visto muchos objetos:\n",
    "\n",
    "- Clase: `int`.  Objetos: `3`, `int(‘4’)`. Atributo: `int(4).real`\n",
    "- Clase: `str`.  Objetos: `'abc'`, `'xy'`. Método: `'xy'.split`\n",
    "\n",
    "### Nuevas clases\n",
    "Podemos crear nuevos tipos de datos, definiendo clases con:\n",
    "\n",
    "```python\n",
    "class <nombre>:\n",
    "    instrucción\n",
    "    instrucción\n",
    "    ...\n",
    "```\n",
    "\n",
    "Lo más esencial de una clase son las funciones miembro:\n",
    "\n",
    "- La función `__init__` es especial; es el _constructor_, que se llama cuando se crea una nueva instancia de la clase.\n",
    "- El primer argumento de todos los métodos (`self`) es una referencia a la instancia llamante (pasada automáticamente)\n",
    "- Si definimos atributos de `self` estamos creando un atributo de instancia (diferente para cada instancia)\n",
    "\n",
    "Convenciones:\n",
    "\n",
    "- Los atributos privados comienzan con ‘_’ (es preferible no utilizarlos directamente)\n",
    "- Las miembros `__<nombre>__`, tienen usos especiales, como `__init__`\n"
   ]
  },
  {
   "cell_type": "code",
   "execution_count": null,
   "id": "9a0f4582-de30-4706-adc9-70f4957750a6",
   "metadata": {},
   "outputs": [],
   "source": [
    "class Sumador:\n",
    "    \"\"\"\n",
    "    Class keeping track of a value, which can only increase.\n",
    "    \"\"\"\n",
    "    def __init__(self, start):\n",
    "        \"\"\"\n",
    "        Constructor, accepting the initial value to track.\n",
    "        \"\"\"\n",
    "        self.val = start\n",
    "\n",
    "    def __str__(self):\n",
    "        return f'Sumador, val: {self.val}'\n",
    "        \n",
    "    def add(self, amount):\n",
    "        \"\"\"\n",
    "        Adds the specified 'amount' from tracked value\n",
    "        \"\"\"        \n",
    "        self.val += amount\n",
    "\n",
    "# Llamamos a 'Numero.__init__', 'self' apunta al nuevo objeto, 'val' a 3\n",
    "s1 = Sumador(3)  \n",
    "print(s1)\n",
    "\n",
    "s1.add(5) \n",
    "print('s1.val tras add:', s1.val) \n",
    "\n",
    "print('type(s1):', type(s1))\n",
    "print('type(Sumador):', type(Sumador))"
   ]
  },
  {
   "cell_type": "markdown",
   "id": "6a76ee2f-9f61-4018-baa1-6ec0efc68fa1",
   "metadata": {},
   "source": [
    "### Herencia\n",
    "\n",
    "Una clase que extiende a otra, hereda sus atributos, de manera que puede usarlos directamente (reutilización de código). También podría redefinir alguno de ellos, o añadir nuevos.\n",
    "\n",
    "Por ejemplo, la clase `Medidor` extiende a la existente previamente `Sumador`.\n",
    "```python\n",
    "class Medidor(Sumador):\n",
    "    \n",
    "    def nuevoMetodo(self, x):\n",
    "        ...\n",
    "    \n",
    "    ...\n",
    "```"
   ]
  }
 ],
 "metadata": {
  "kernelspec": {
   "display_name": "Python 3 (ipykernel)",
   "language": "python",
   "name": "python3"
  },
  "language_info": {
   "codemirror_mode": {
    "name": "ipython",
    "version": 3
   },
   "file_extension": ".py",
   "mimetype": "text/x-python",
   "name": "python",
   "nbconvert_exporter": "python",
   "pygments_lexer": "ipython3",
   "version": "3.7.9"
  }
 },
 "nbformat": 4,
 "nbformat_minor": 5
}
