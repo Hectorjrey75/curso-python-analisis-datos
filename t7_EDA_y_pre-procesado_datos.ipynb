{
 "cells": [
  {
   "cell_type": "markdown",
   "id": "5256328b-aaff-4a73-b179-ebdb84c8c3b9",
   "metadata": {},
   "source": [
    "<font size=6>\n",
    "\n",
    "<b>Curso de Análisis de Datos con Python</b>\n",
    "</font>\n",
    "\n",
    "<font size=4>\n",
    "    \n",
    "Curso de formación interna, CIEMAT. <br/>\n",
    "Madrid, Octubre de 2021\n",
    "\n",
    "Antonio Delgado Peris y Cristina Labajo Villaverde\n",
    "</font>\n",
    "\n",
    "https://github.com/andelpe/curso-python-analisis-datos\n",
    "\n",
    "<br/>"
   ]
  },
  {
   "cell_type": "markdown",
   "id": "293763e5-0dfb-4c1e-bb8b-379aa0b19446",
   "metadata": {
    "tags": []
   },
   "source": [
    "# Tema 7. Análisis de datos exploratorio (EDA) y pre-procesado de datos"
   ]
  },
  {
   "cell_type": "markdown",
   "id": "a6ff5d8b-9bbf-4b16-91a4-46a3e71cbcbd",
   "metadata": {},
   "source": [
    "Lo más importante a la hora de analizar datos y trabajar con datasets es disponer de unos buenos datos. No sólo tienen que ser lo suficientemente representativos para satisfacer nuestros objetivos, si no que también requieren de un pre-procesado para limpiarlos, reescalarlos, agruparlos, convertir a un formato específico, etc. y así evitar errores en los resultados o resultados poco fidedignos. "
   ]
  },
  {
   "cell_type": "markdown",
   "id": "c61dbd02-8cdc-4a74-aafb-a08544548354",
   "metadata": {},
   "source": [
    "# Objetivos"
   ]
  },
  {
   "cell_type": "markdown",
   "id": "035d51ff-6279-4aee-83ac-339232a692e4",
   "metadata": {},
   "source": [
    "- Identificar y limpiar los datos de valores \\\"omitidos\\\"\n",
    "- Estandarizar el formato de los datos\n",
    "- Normalizar los valores de los que disponemos\n",
    "- Agrupar valores (binning)\n",
    "- Variables categóricas a variables numéricas\n",
    "- Explorar los datos de los que disponemos \n",
    "- Encontrar relación entre las distintas variables\n",
    "- Identificar de outliers  \n"
   ]
  },
  {
   "cell_type": "markdown",
   "id": "dbbb315c-9991-49fe-82f6-aff2415fdd92",
   "metadata": {},
   "source": [
    "### Importación de librerías\n"
   ]
  },
  {
   "cell_type": "code",
   "execution_count": 1,
   "id": "feeeeb5e-3265-445f-8703-eb736c984b79",
   "metadata": {},
   "outputs": [],
   "source": [
    "import pandas as pd\n",
    "import numpy as np\n",
    "import seaborn as sns\n",
    "import matplotlib as mpl\n",
    "from matplotlib import pyplot as plt"
   ]
  },
  {
   "cell_type": "markdown",
   "id": "65cd9d1b-0ad3-41f3-bd9e-fe3e2285b8b0",
   "metadata": {},
   "source": [
    "##  Estadística descriptiva\n"
   ]
  },
  {
   "cell_type": "markdown",
   "id": "94a1eb7f-5c44-46b8-bf5e-78f4795f3354",
   "metadata": {},
   "source": [
    "Es importante explorar nuestros datos antes de empezar a hacer cálculos complicados con ellos. \n",
    "Una vez que tenemos nuestros datos guardados en un dataset podemos aplicar distintos métodos para tener una primera idea del tamaño, rango y otras medidas estadísticas de interés, tales como el valor medio, máximos, mínimos, etc. que luego podemos necesitar para pre-procesar nuestros datos. \n",
    "\n",
    "\n",
    "La estadística descriptiva ayuda a describir las características básicas de un conjunto de datos de manera rápida.\n",
    "\n",
    "El modo más común de obtener estos datos es la función `df.describe()` de pandas aplicada a nuestro dataset.\n",
    "\n"
   ]
  },
  {
   "cell_type": "code",
   "execution_count": 2,
   "id": "8fd9218b-07e2-432c-badb-0070230a0831",
   "metadata": {},
   "outputs": [],
   "source": [
    "##EJEMPLO COCHES\n",
    "coches=pd.read_csv('./data/auto-mpg.data',sep='\\s+', header=None)\n",
    "coches.columns=['mpg','cylinders','displacement','horsepower','weight','acceleration','model_year','origin','car_name']\n",
    "coches=coches.replace('?', np.nan)\n",
    "coches.dropna(inplace=True)\n",
    "coches.reset_index( inplace=True)\n"
   ]
  },
  {
   "cell_type": "code",
   "execution_count": 3,
   "id": "7b0901c3-30b7-4e12-b519-009541bf35ca",
   "metadata": {},
   "outputs": [
    {
     "data": {
      "text/html": [
       "<div>\n",
       "<style scoped>\n",
       "    .dataframe tbody tr th:only-of-type {\n",
       "        vertical-align: middle;\n",
       "    }\n",
       "\n",
       "    .dataframe tbody tr th {\n",
       "        vertical-align: top;\n",
       "    }\n",
       "\n",
       "    .dataframe thead th {\n",
       "        text-align: right;\n",
       "    }\n",
       "</style>\n",
       "<table border=\"1\" class=\"dataframe\">\n",
       "  <thead>\n",
       "    <tr style=\"text-align: right;\">\n",
       "      <th></th>\n",
       "      <th>index</th>\n",
       "      <th>mpg</th>\n",
       "      <th>cylinders</th>\n",
       "      <th>displacement</th>\n",
       "      <th>weight</th>\n",
       "      <th>acceleration</th>\n",
       "      <th>model_year</th>\n",
       "      <th>origin</th>\n",
       "    </tr>\n",
       "  </thead>\n",
       "  <tbody>\n",
       "    <tr>\n",
       "      <th>count</th>\n",
       "      <td>392.000000</td>\n",
       "      <td>392.000000</td>\n",
       "      <td>392.000000</td>\n",
       "      <td>392.000000</td>\n",
       "      <td>392.000000</td>\n",
       "      <td>392.000000</td>\n",
       "      <td>392.000000</td>\n",
       "      <td>392.000000</td>\n",
       "    </tr>\n",
       "    <tr>\n",
       "      <th>mean</th>\n",
       "      <td>197.579082</td>\n",
       "      <td>23.445918</td>\n",
       "      <td>5.471939</td>\n",
       "      <td>194.411990</td>\n",
       "      <td>2977.584184</td>\n",
       "      <td>15.541327</td>\n",
       "      <td>75.979592</td>\n",
       "      <td>1.576531</td>\n",
       "    </tr>\n",
       "    <tr>\n",
       "      <th>std</th>\n",
       "      <td>114.534637</td>\n",
       "      <td>7.805007</td>\n",
       "      <td>1.705783</td>\n",
       "      <td>104.644004</td>\n",
       "      <td>849.402560</td>\n",
       "      <td>2.758864</td>\n",
       "      <td>3.683737</td>\n",
       "      <td>0.805518</td>\n",
       "    </tr>\n",
       "    <tr>\n",
       "      <th>min</th>\n",
       "      <td>0.000000</td>\n",
       "      <td>9.000000</td>\n",
       "      <td>3.000000</td>\n",
       "      <td>68.000000</td>\n",
       "      <td>1613.000000</td>\n",
       "      <td>8.000000</td>\n",
       "      <td>70.000000</td>\n",
       "      <td>1.000000</td>\n",
       "    </tr>\n",
       "    <tr>\n",
       "      <th>25%</th>\n",
       "      <td>98.750000</td>\n",
       "      <td>17.000000</td>\n",
       "      <td>4.000000</td>\n",
       "      <td>105.000000</td>\n",
       "      <td>2225.250000</td>\n",
       "      <td>13.775000</td>\n",
       "      <td>73.000000</td>\n",
       "      <td>1.000000</td>\n",
       "    </tr>\n",
       "    <tr>\n",
       "      <th>50%</th>\n",
       "      <td>197.500000</td>\n",
       "      <td>22.750000</td>\n",
       "      <td>4.000000</td>\n",
       "      <td>151.000000</td>\n",
       "      <td>2803.500000</td>\n",
       "      <td>15.500000</td>\n",
       "      <td>76.000000</td>\n",
       "      <td>1.000000</td>\n",
       "    </tr>\n",
       "    <tr>\n",
       "      <th>75%</th>\n",
       "      <td>295.250000</td>\n",
       "      <td>29.000000</td>\n",
       "      <td>8.000000</td>\n",
       "      <td>275.750000</td>\n",
       "      <td>3614.750000</td>\n",
       "      <td>17.025000</td>\n",
       "      <td>79.000000</td>\n",
       "      <td>2.000000</td>\n",
       "    </tr>\n",
       "    <tr>\n",
       "      <th>max</th>\n",
       "      <td>397.000000</td>\n",
       "      <td>46.600000</td>\n",
       "      <td>8.000000</td>\n",
       "      <td>455.000000</td>\n",
       "      <td>5140.000000</td>\n",
       "      <td>24.800000</td>\n",
       "      <td>82.000000</td>\n",
       "      <td>3.000000</td>\n",
       "    </tr>\n",
       "  </tbody>\n",
       "</table>\n",
       "</div>"
      ],
      "text/plain": [
       "            index         mpg   cylinders  displacement       weight  \\\n",
       "count  392.000000  392.000000  392.000000    392.000000   392.000000   \n",
       "mean   197.579082   23.445918    5.471939    194.411990  2977.584184   \n",
       "std    114.534637    7.805007    1.705783    104.644004   849.402560   \n",
       "min      0.000000    9.000000    3.000000     68.000000  1613.000000   \n",
       "25%     98.750000   17.000000    4.000000    105.000000  2225.250000   \n",
       "50%    197.500000   22.750000    4.000000    151.000000  2803.500000   \n",
       "75%    295.250000   29.000000    8.000000    275.750000  3614.750000   \n",
       "max    397.000000   46.600000    8.000000    455.000000  5140.000000   \n",
       "\n",
       "       acceleration  model_year      origin  \n",
       "count    392.000000  392.000000  392.000000  \n",
       "mean      15.541327   75.979592    1.576531  \n",
       "std        2.758864    3.683737    0.805518  \n",
       "min        8.000000   70.000000    1.000000  \n",
       "25%       13.775000   73.000000    1.000000  \n",
       "50%       15.500000   76.000000    1.000000  \n",
       "75%       17.025000   79.000000    2.000000  \n",
       "max       24.800000   82.000000    3.000000  "
      ]
     },
     "execution_count": 3,
     "metadata": {},
     "output_type": "execute_result"
    }
   ],
   "source": [
    "coches.describe()"
   ]
  },
  {
   "cell_type": "markdown",
   "id": "69de2c28-e9d8-4e68-83e7-c0aada38a7f9",
   "metadata": {},
   "source": [
    "Esta función muestra estadísticas básicas de cada variable, tales como la media, el total de datos, la desviación estandar, los cuartiles y el máximo y mínimo. \n",
    "\n",
    "\n"
   ]
  },
  {
   "cell_type": "markdown",
   "id": "df6cd284-83e4-4253-993c-69ca3d411054",
   "metadata": {},
   "source": [
    "También podemos usar la función `.info()` que nos dará otro tipo de información, como el rango del índice de nuestros datos (número de filas) y datos de nuestras columnas, como el tipo de datos"
   ]
  },
  {
   "cell_type": "code",
   "execution_count": 4,
   "id": "91bb2992-5843-4ed3-8f1c-d17d95b82856",
   "metadata": {},
   "outputs": [
    {
     "data": {
      "text/html": [
       "<div>\n",
       "<style scoped>\n",
       "    .dataframe tbody tr th:only-of-type {\n",
       "        vertical-align: middle;\n",
       "    }\n",
       "\n",
       "    .dataframe tbody tr th {\n",
       "        vertical-align: top;\n",
       "    }\n",
       "\n",
       "    .dataframe thead th {\n",
       "        text-align: right;\n",
       "    }\n",
       "</style>\n",
       "<table border=\"1\" class=\"dataframe\">\n",
       "  <thead>\n",
       "    <tr style=\"text-align: right;\">\n",
       "      <th></th>\n",
       "      <th>Nombre</th>\n",
       "      <th>Sexo</th>\n",
       "      <th>Edad</th>\n",
       "      <th>Departamento</th>\n",
       "    </tr>\n",
       "  </thead>\n",
       "  <tbody>\n",
       "    <tr>\n",
       "      <th>0</th>\n",
       "      <td>Juan</td>\n",
       "      <td>Hombre</td>\n",
       "      <td>42</td>\n",
       "      <td>Comunicación</td>\n",
       "    </tr>\n",
       "    <tr>\n",
       "      <th>1</th>\n",
       "      <td>Laura</td>\n",
       "      <td>Mujer</td>\n",
       "      <td>44</td>\n",
       "      <td>Administración</td>\n",
       "    </tr>\n",
       "    <tr>\n",
       "      <th>2</th>\n",
       "      <td>Pepe</td>\n",
       "      <td>Hombre</td>\n",
       "      <td>37</td>\n",
       "      <td>Ventas</td>\n",
       "    </tr>\n",
       "    <tr>\n",
       "      <th>3</th>\n",
       "      <td>Carlos</td>\n",
       "      <td>Hombre</td>\n",
       "      <td>15</td>\n",
       "      <td>Ventas</td>\n",
       "    </tr>\n",
       "    <tr>\n",
       "      <th>4</th>\n",
       "      <td>Esther</td>\n",
       "      <td>Mujer</td>\n",
       "      <td>62</td>\n",
       "      <td>Administración</td>\n",
       "    </tr>\n",
       "    <tr>\n",
       "      <th>5</th>\n",
       "      <td>Álvaro</td>\n",
       "      <td>Hombre</td>\n",
       "      <td>62</td>\n",
       "      <td>Ventas</td>\n",
       "    </tr>\n",
       "    <tr>\n",
       "      <th>6</th>\n",
       "      <td>Rosa</td>\n",
       "      <td>Mujer</td>\n",
       "      <td>50</td>\n",
       "      <td>Comunicación</td>\n",
       "    </tr>\n",
       "  </tbody>\n",
       "</table>\n",
       "</div>"
      ],
      "text/plain": [
       "   Nombre    Sexo  Edad    Departamento\n",
       "0    Juan  Hombre    42    Comunicación\n",
       "1   Laura   Mujer    44  Administración\n",
       "2    Pepe  Hombre    37          Ventas\n",
       "3  Carlos  Hombre    15          Ventas\n",
       "4  Esther   Mujer    62  Administración\n",
       "5  Álvaro  Hombre    62          Ventas\n",
       "6    Rosa   Mujer    50    Comunicación"
      ]
     },
     "execution_count": 4,
     "metadata": {},
     "output_type": "execute_result"
    }
   ],
   "source": [
    "## EJEMPLO TRABAJADORES EMPRESA\n",
    "datos = [\n",
    "    {'Nombre': 'Juan', 'Sexo':'Hombre','Edad': 42, 'Departamento': 'Comunicación'},\n",
    "    {'Nombre': 'Laura', 'Sexo':'Mujer','Edad': 44, 'Departamento': 'Administración'},\n",
    "    {'Nombre': 'Pepe', 'Sexo':'Hombre','Edad': 37, 'Departamento': 'Ventas'},\n",
    "    {'Nombre': 'Carlos', 'Sexo':'Hombre','Edad': 15, 'Departamento': 'Ventas'},\n",
    "    {'Nombre': 'Esther', 'Sexo':'Mujer','Edad': 62, 'Departamento': 'Administración'},\n",
    "    {'Nombre': 'Álvaro', 'Sexo':'Hombre','Edad': 62, 'Departamento': 'Ventas'},\n",
    "    {'Nombre': 'Rosa', 'Sexo':'Mujer','Edad': 50, 'Departamento': 'Comunicación'}\n",
    "]\n",
    "\n",
    "empresa = pd.DataFrame(datos)\n",
    "empresa"
   ]
  },
  {
   "cell_type": "code",
   "execution_count": 5,
   "id": "4f49a3b1-5cbb-40f4-839e-9728d631675e",
   "metadata": {},
   "outputs": [
    {
     "name": "stdout",
     "output_type": "stream",
     "text": [
      "<class 'pandas.core.frame.DataFrame'>\n",
      "RangeIndex: 7 entries, 0 to 6\n",
      "Data columns (total 4 columns):\n",
      " #   Column        Non-Null Count  Dtype \n",
      "---  ------        --------------  ----- \n",
      " 0   Nombre        7 non-null      object\n",
      " 1   Sexo          7 non-null      object\n",
      " 2   Edad          7 non-null      int64 \n",
      " 3   Departamento  7 non-null      object\n",
      "dtypes: int64(1), object(3)\n",
      "memory usage: 352.0+ bytes\n"
     ]
    }
   ],
   "source": [
    "empresa.info()"
   ]
  },
  {
   "cell_type": "markdown",
   "id": "6cbdffc5-c9fb-4627-b2ac-184a4f6ede04",
   "metadata": {},
   "source": [
    "Aunque para saber las dimensiones de nuestro dataset la manera más rápida es usar la función `.shape` que nos devuelve dos números, el primero es el número de filas y el segundo el número de columnas. "
   ]
  },
  {
   "cell_type": "code",
   "execution_count": 6,
   "id": "c3e76553-5869-417d-8b44-fc41aba39577",
   "metadata": {},
   "outputs": [
    {
     "data": {
      "text/plain": [
       "(7, 4)"
      ]
     },
     "execution_count": 6,
     "metadata": {},
     "output_type": "execute_result"
    }
   ],
   "source": [
    "empresa.shape"
   ]
  },
  {
   "cell_type": "markdown",
   "id": "06d75dfa-d5b7-4e3f-8423-38d4f81d4830",
   "metadata": {},
   "source": [
    "También podemos ver cuantas veces se repite cada valor, lo que nos puede dar una idea de la distribución general, usando la función `df.col.value_counts()`"
   ]
  },
  {
   "cell_type": "code",
   "execution_count": 7,
   "id": "f837d752-0b47-4fec-b839-22c1004a5b9b",
   "metadata": {},
   "outputs": [
    {
     "data": {
      "text/plain": [
       "Hombre    4\n",
       "Mujer     3\n",
       "Name: Sexo, dtype: int64"
      ]
     },
     "execution_count": 7,
     "metadata": {},
     "output_type": "execute_result"
    }
   ],
   "source": [
    "empresa.Sexo.value_counts()"
   ]
  },
  {
   "cell_type": "markdown",
   "id": "0b22b6f5-b3ac-4ee4-89f3-fc1f48df459f",
   "metadata": {},
   "source": [
    "Los **histogramas** también pueden ser útiles para ver la distribución de nuestros datos. \n"
   ]
  },
  {
   "cell_type": "code",
   "execution_count": null,
   "id": "2ec4bcca-86cf-44c1-b2eb-0370731fadd3",
   "metadata": {},
   "outputs": [],
   "source": [
    "##EJEMPLO Coches CO2 emissions\n",
    "df4 = pd.read_csv(\"./data/FuelConsumption.csv\")\n",
    "coches2 = df4[['ENGINESIZE','CYLINDERS','FUELCONSUMPTION_COMB','CO2EMISSIONS']] \n",
    "coches2 ## Datasat reducido con variables de interés"
   ]
  },
  {
   "cell_type": "code",
   "execution_count": null,
   "id": "d0a9b158-08eb-4f54-87d1-5084cffa06ef",
   "metadata": {},
   "outputs": [],
   "source": [
    "\n",
    "fig, axes = plt.subplots(nrows=1, ncols=2, figsize=(15, 5))\n",
    "\n",
    "sns.histplot(\n",
    "        data    = coches2,\n",
    "        x       = 'ENGINESIZE',\n",
    "        stat    = \"count\",\n",
    "        kde     = True,\n",
    "        color   = 'green',\n",
    "        line_kws= {'linewidth': 2},\n",
    "        alpha   = 0.3,\n",
    "        ax      = axes[0])\n",
    "axes[0].set_title('Engine Size', fontsize = 10, fontweight = \"bold\")\n",
    "axes[0].tick_params(labelsize = 8)\n",
    "\n",
    "\n",
    "sns.histplot(\n",
    "        data    = coches2,\n",
    "        x       = 'CO2EMISSIONS',\n",
    "        stat    = \"count\",\n",
    "        kde     = True,\n",
    "        color   = 'orange',\n",
    "        line_kws= {'linewidth': 2},\n",
    "        alpha   = 0.3,\n",
    "        ax      = axes[1])\n",
    "axes[1].set_title('Emisiones CO2', fontsize = 10, fontweight = \"bold\")\n",
    "axes[1].tick_params(labelsize = 8)"
   ]
  },
  {
   "cell_type": "markdown",
   "id": "b1d6bda3-eb91-4391-a632-242dbcccbabd",
   "metadata": {
    "tags": []
   },
   "source": [
    "##  Missing values\n"
   ]
  },
  {
   "cell_type": "markdown",
   "id": "bb87bba2-83e0-4572-a3ce-f9465d177454",
   "metadata": {},
   "source": [
    "Podemos encontrarnos con que faltan valores en nuestros datasets, esto puede deberse a que no se han guardado algunas variables de un evento, y podemos encontrarlos representados de diferentes maneras, como 0, NaN, espacios en blanco o símbolos de puntuación. \n",
    "\n",
    "Primero, es necesario detectar si tenemos valores nulos u omitidos en nuestro dataset y eso lo podemos hacer usando la función de pandas `.isnull()` combinado con el método `.any` para saber si hay algún valor en el conjunto de nuestro dataset. \n"
   ]
  },
  {
   "cell_type": "code",
   "execution_count": null,
   "id": "da2ae1e2-8665-4d24-9ff2-cddd7cbf6742",
   "metadata": {},
   "outputs": [],
   "source": [
    "## EJEMPLO Dataset Titanic\n",
    "titanic = sns.load_dataset(\"titanic\")\n",
    "titanic.head(10)"
   ]
  },
  {
   "cell_type": "code",
   "execution_count": null,
   "id": "095cac1e-02d3-4cd2-80b6-5c10bc4c6a79",
   "metadata": {},
   "outputs": [],
   "source": [
    "titanic.isnull().any()"
   ]
  },
  {
   "cell_type": "markdown",
   "id": "e124cf1d-5ddc-4450-99ab-12495b5f1b49",
   "metadata": {},
   "source": [
    "Vemos qué columnas tienen datos nulos (True), lo que nos sirve para identificarlas y saber dónde enfocarnos a la hora de eliminar o cambiar valores. Además, podemos intentar saber el número exacto de datos nulos que tenemos, por ejemplo en una columna en particular. "
   ]
  },
  {
   "cell_type": "code",
   "execution_count": null,
   "id": "9738683a-836b-4f18-899b-04898630b9bd",
   "metadata": {},
   "outputs": [],
   "source": [
    "print('Valores nulos en columna\\'deck\\':', titanic['deck'].isnull().sum())\n",
    "print('Tamaño dataset Titanic:', titanic.shape)"
   ]
  },
  {
   "cell_type": "markdown",
   "id": "2652133f-f2b6-40fd-887b-6348b22b1671",
   "metadata": {},
   "source": [
    "\n",
    "Se pueden considerar diferentes estrategias para enfrentarnos a estos valores omitidos y eso va a depender de la situación, el tipo de dato y la experiencia del investigador. Los distintos métodos para solucionar los espacios en blanco son los siguientes: \n",
    "\n",
    "- Revisar los datos e intentar recuperar el valor desconocido. \n",
    "- Eliminar los datos omitidos\n",
    "    - Eliminar la variable entera \n",
    "    - Eliminar esa entrada de datos (la fila)\n",
    "- Sustituir valores\n",
    "    - Variables numéricas:\n",
    "        - Reemplazarlos por la media de la variable \n",
    "    - Variables categóricas:\n",
    "        - Reemplazarlos por la moda   \n",
    "        - Reemplazar los valores basandonos en conocimiento previo\n",
    "- Dejar en blanco los valores que faltan\n",
    "\n"
   ]
  },
  {
   "cell_type": "markdown",
   "id": "d0da0112-7e41-474a-a5be-a4d5bb4baf25",
   "metadata": {},
   "source": [
    "### Eliminar los datos omitidos\n"
   ]
  },
  {
   "cell_type": "markdown",
   "id": "19a281ca-5c29-4361-9582-a6641c00c377",
   "metadata": {},
   "source": [
    "Pandas tiene una función que se encarga de eliminar datos que no son válidos o en blanco: `df.dropna()`\n",
    "\n",
    "Es necesario especificar el eje que queremos eliminar:\n",
    "- `axis=0` elimina la fila entera, la entrada que presenta problemas\n",
    "- `axis=1` elimina la columna, la variable\n",
    "\n",
    "Otros de los parámetros de la función que hay que configurar son la columna en la que se encuentra el NaN y si queremos mantener el índice cuando eliminemos los datos vacíos. \n",
    "\n"
   ]
  },
  {
   "cell_type": "code",
   "execution_count": null,
   "id": "9a823ed8-d948-4393-aa5b-1176e0044a62",
   "metadata": {},
   "outputs": [],
   "source": [
    "del_titanic=titanic.copy()\n",
    "del_titanic.dropna(subset=['deck'], axis=0, inplace=True)  ##Sin el parámetro 'inplace=True' el dataset no se modifica. \n",
    "del_titanic.reset_index(drop=True, inplace=True) #Restablecemos el índice para que no haya problemas en futuras operaciones.\n",
    "del_titanic.head()"
   ]
  },
  {
   "cell_type": "markdown",
   "id": "d425440e-7af5-4289-9045-cfb7a06ee3a5",
   "metadata": {},
   "source": [
    "(Otro modo puede ser transformar a 0 los NaN y seleccionar las líneas que no contengan ceros, pero esta solución sólo sería válida si tenemos datos que no son nulos.)"
   ]
  },
  {
   "cell_type": "markdown",
   "id": "20d4361e-c96f-4886-9353-83a5c4a99663",
   "metadata": {
    "tags": []
   },
   "source": [
    "### Sustituir valores"
   ]
  },
  {
   "cell_type": "markdown",
   "id": "509d8d52-c13c-40f6-ba51-e7970664db53",
   "metadata": {},
   "source": [
    "Para sustituir un dato vacío por otro valor se puede usar la función `df.replace(valor_omitido, nuevo_valor)`.\n",
    "\n",
    "También pandas tiene una función especifica para los valores omitidos:`df.fillna(nuevo_valor)`\n",
    "\n",
    "Pongamos el ejemplo del dataset anterior. En este caso querríamos reemplazar el valor NaN por el valor de la columna 'deck' que más veces se repite, o lo que es lo mismo, la moda. \n",
    "Primero habría que calcular la moda con `df.col.mode()`\n"
   ]
  },
  {
   "cell_type": "code",
   "execution_count": 72,
   "id": "09c36bb1-3a7d-4478-9e21-00310d3eef28",
   "metadata": {
    "tags": []
   },
   "outputs": [
    {
     "name": "stdout",
     "output_type": "stream",
     "text": [
      "La moda de la columna 'deck' es:  C\n"
     ]
    },
    {
     "data": {
      "text/html": [
       "<div>\n",
       "<style scoped>\n",
       "    .dataframe tbody tr th:only-of-type {\n",
       "        vertical-align: middle;\n",
       "    }\n",
       "\n",
       "    .dataframe tbody tr th {\n",
       "        vertical-align: top;\n",
       "    }\n",
       "\n",
       "    .dataframe thead th {\n",
       "        text-align: right;\n",
       "    }\n",
       "</style>\n",
       "<table border=\"1\" class=\"dataframe\">\n",
       "  <thead>\n",
       "    <tr style=\"text-align: right;\">\n",
       "      <th></th>\n",
       "      <th>survived</th>\n",
       "      <th>pclass</th>\n",
       "      <th>sex</th>\n",
       "      <th>age</th>\n",
       "      <th>sibsp</th>\n",
       "      <th>parch</th>\n",
       "      <th>fare</th>\n",
       "      <th>embarked</th>\n",
       "      <th>class</th>\n",
       "      <th>who</th>\n",
       "      <th>adult_male</th>\n",
       "      <th>deck</th>\n",
       "      <th>embark_town</th>\n",
       "      <th>alive</th>\n",
       "      <th>alone</th>\n",
       "    </tr>\n",
       "  </thead>\n",
       "  <tbody>\n",
       "    <tr>\n",
       "      <th>0</th>\n",
       "      <td>0</td>\n",
       "      <td>3</td>\n",
       "      <td>male</td>\n",
       "      <td>22.0</td>\n",
       "      <td>1</td>\n",
       "      <td>0</td>\n",
       "      <td>7.2500</td>\n",
       "      <td>S</td>\n",
       "      <td>Third</td>\n",
       "      <td>man</td>\n",
       "      <td>True</td>\n",
       "      <td>C</td>\n",
       "      <td>Southampton</td>\n",
       "      <td>no</td>\n",
       "      <td>False</td>\n",
       "    </tr>\n",
       "    <tr>\n",
       "      <th>1</th>\n",
       "      <td>1</td>\n",
       "      <td>1</td>\n",
       "      <td>female</td>\n",
       "      <td>38.0</td>\n",
       "      <td>1</td>\n",
       "      <td>0</td>\n",
       "      <td>71.2833</td>\n",
       "      <td>C</td>\n",
       "      <td>First</td>\n",
       "      <td>woman</td>\n",
       "      <td>False</td>\n",
       "      <td>C</td>\n",
       "      <td>Cherbourg</td>\n",
       "      <td>yes</td>\n",
       "      <td>False</td>\n",
       "    </tr>\n",
       "    <tr>\n",
       "      <th>2</th>\n",
       "      <td>1</td>\n",
       "      <td>3</td>\n",
       "      <td>female</td>\n",
       "      <td>26.0</td>\n",
       "      <td>0</td>\n",
       "      <td>0</td>\n",
       "      <td>7.9250</td>\n",
       "      <td>S</td>\n",
       "      <td>Third</td>\n",
       "      <td>woman</td>\n",
       "      <td>False</td>\n",
       "      <td>C</td>\n",
       "      <td>Southampton</td>\n",
       "      <td>yes</td>\n",
       "      <td>True</td>\n",
       "    </tr>\n",
       "    <tr>\n",
       "      <th>3</th>\n",
       "      <td>1</td>\n",
       "      <td>1</td>\n",
       "      <td>female</td>\n",
       "      <td>35.0</td>\n",
       "      <td>1</td>\n",
       "      <td>0</td>\n",
       "      <td>53.1000</td>\n",
       "      <td>S</td>\n",
       "      <td>First</td>\n",
       "      <td>woman</td>\n",
       "      <td>False</td>\n",
       "      <td>C</td>\n",
       "      <td>Southampton</td>\n",
       "      <td>yes</td>\n",
       "      <td>False</td>\n",
       "    </tr>\n",
       "    <tr>\n",
       "      <th>4</th>\n",
       "      <td>0</td>\n",
       "      <td>3</td>\n",
       "      <td>male</td>\n",
       "      <td>35.0</td>\n",
       "      <td>0</td>\n",
       "      <td>0</td>\n",
       "      <td>8.0500</td>\n",
       "      <td>S</td>\n",
       "      <td>Third</td>\n",
       "      <td>man</td>\n",
       "      <td>True</td>\n",
       "      <td>C</td>\n",
       "      <td>Southampton</td>\n",
       "      <td>no</td>\n",
       "      <td>True</td>\n",
       "    </tr>\n",
       "    <tr>\n",
       "      <th>5</th>\n",
       "      <td>0</td>\n",
       "      <td>3</td>\n",
       "      <td>male</td>\n",
       "      <td>NaN</td>\n",
       "      <td>0</td>\n",
       "      <td>0</td>\n",
       "      <td>8.4583</td>\n",
       "      <td>Q</td>\n",
       "      <td>Third</td>\n",
       "      <td>man</td>\n",
       "      <td>True</td>\n",
       "      <td>C</td>\n",
       "      <td>Queenstown</td>\n",
       "      <td>no</td>\n",
       "      <td>True</td>\n",
       "    </tr>\n",
       "    <tr>\n",
       "      <th>6</th>\n",
       "      <td>0</td>\n",
       "      <td>1</td>\n",
       "      <td>male</td>\n",
       "      <td>54.0</td>\n",
       "      <td>0</td>\n",
       "      <td>0</td>\n",
       "      <td>51.8625</td>\n",
       "      <td>S</td>\n",
       "      <td>First</td>\n",
       "      <td>man</td>\n",
       "      <td>True</td>\n",
       "      <td>E</td>\n",
       "      <td>Southampton</td>\n",
       "      <td>no</td>\n",
       "      <td>True</td>\n",
       "    </tr>\n",
       "    <tr>\n",
       "      <th>7</th>\n",
       "      <td>0</td>\n",
       "      <td>3</td>\n",
       "      <td>male</td>\n",
       "      <td>2.0</td>\n",
       "      <td>3</td>\n",
       "      <td>1</td>\n",
       "      <td>21.0750</td>\n",
       "      <td>S</td>\n",
       "      <td>Third</td>\n",
       "      <td>child</td>\n",
       "      <td>False</td>\n",
       "      <td>C</td>\n",
       "      <td>Southampton</td>\n",
       "      <td>no</td>\n",
       "      <td>False</td>\n",
       "    </tr>\n",
       "    <tr>\n",
       "      <th>8</th>\n",
       "      <td>1</td>\n",
       "      <td>3</td>\n",
       "      <td>female</td>\n",
       "      <td>27.0</td>\n",
       "      <td>0</td>\n",
       "      <td>2</td>\n",
       "      <td>11.1333</td>\n",
       "      <td>S</td>\n",
       "      <td>Third</td>\n",
       "      <td>woman</td>\n",
       "      <td>False</td>\n",
       "      <td>C</td>\n",
       "      <td>Southampton</td>\n",
       "      <td>yes</td>\n",
       "      <td>False</td>\n",
       "    </tr>\n",
       "    <tr>\n",
       "      <th>9</th>\n",
       "      <td>1</td>\n",
       "      <td>2</td>\n",
       "      <td>female</td>\n",
       "      <td>14.0</td>\n",
       "      <td>1</td>\n",
       "      <td>0</td>\n",
       "      <td>30.0708</td>\n",
       "      <td>C</td>\n",
       "      <td>Second</td>\n",
       "      <td>child</td>\n",
       "      <td>False</td>\n",
       "      <td>C</td>\n",
       "      <td>Cherbourg</td>\n",
       "      <td>yes</td>\n",
       "      <td>False</td>\n",
       "    </tr>\n",
       "  </tbody>\n",
       "</table>\n",
       "</div>"
      ],
      "text/plain": [
       "   survived  pclass     sex   age  sibsp  parch     fare embarked   class  \\\n",
       "0         0       3    male  22.0      1      0   7.2500        S   Third   \n",
       "1         1       1  female  38.0      1      0  71.2833        C   First   \n",
       "2         1       3  female  26.0      0      0   7.9250        S   Third   \n",
       "3         1       1  female  35.0      1      0  53.1000        S   First   \n",
       "4         0       3    male  35.0      0      0   8.0500        S   Third   \n",
       "5         0       3    male   NaN      0      0   8.4583        Q   Third   \n",
       "6         0       1    male  54.0      0      0  51.8625        S   First   \n",
       "7         0       3    male   2.0      3      1  21.0750        S   Third   \n",
       "8         1       3  female  27.0      0      2  11.1333        S   Third   \n",
       "9         1       2  female  14.0      1      0  30.0708        C  Second   \n",
       "\n",
       "     who  adult_male deck  embark_town alive  alone  \n",
       "0    man        True    C  Southampton    no  False  \n",
       "1  woman       False    C    Cherbourg   yes  False  \n",
       "2  woman       False    C  Southampton   yes   True  \n",
       "3  woman       False    C  Southampton   yes  False  \n",
       "4    man        True    C  Southampton    no   True  \n",
       "5    man        True    C   Queenstown    no   True  \n",
       "6    man        True    E  Southampton    no   True  \n",
       "7  child       False    C  Southampton    no  False  \n",
       "8  woman       False    C  Southampton   yes  False  \n",
       "9  child       False    C    Cherbourg   yes  False  "
      ]
     },
     "execution_count": 72,
     "metadata": {},
     "output_type": "execute_result"
    }
   ],
   "source": [
    "## Hallamos la moda\n",
    "md=titanic.deck.mode()[0]\n",
    "## En este caso la moda es de todo el dataset, pero también puedes hacer la moda de un grupo concreto.\n",
    "print('La moda de la columna \\'deck\\' es: ',md)\n",
    "#Sustituimos valores nan por la moda\n",
    "md_titanic=titanic.copy()\n",
    "md_titanic.deck=md_titanic['deck'].fillna(md)\n",
    "md_titanic.head(10)"
   ]
  },
  {
   "cell_type": "code",
   "execution_count": 75,
   "id": "5cb2ff62-478b-4356-a962-0fdda1e365be",
   "metadata": {},
   "outputs": [
    {
     "data": {
      "text/html": [
       "<div>\n",
       "<style scoped>\n",
       "    .dataframe tbody tr th:only-of-type {\n",
       "        vertical-align: middle;\n",
       "    }\n",
       "\n",
       "    .dataframe tbody tr th {\n",
       "        vertical-align: top;\n",
       "    }\n",
       "\n",
       "    .dataframe thead th {\n",
       "        text-align: right;\n",
       "    }\n",
       "</style>\n",
       "<table border=\"1\" class=\"dataframe\">\n",
       "  <thead>\n",
       "    <tr style=\"text-align: right;\">\n",
       "      <th></th>\n",
       "      <th>survived</th>\n",
       "      <th>pclass</th>\n",
       "      <th>sex</th>\n",
       "      <th>age</th>\n",
       "      <th>sibsp</th>\n",
       "      <th>parch</th>\n",
       "      <th>fare</th>\n",
       "      <th>embarked</th>\n",
       "      <th>class</th>\n",
       "      <th>who</th>\n",
       "      <th>adult_male</th>\n",
       "      <th>deck</th>\n",
       "      <th>embark_town</th>\n",
       "      <th>alive</th>\n",
       "      <th>alone</th>\n",
       "    </tr>\n",
       "  </thead>\n",
       "  <tbody>\n",
       "    <tr>\n",
       "      <th>0</th>\n",
       "      <td>0</td>\n",
       "      <td>3</td>\n",
       "      <td>male</td>\n",
       "      <td>22.0</td>\n",
       "      <td>1</td>\n",
       "      <td>0</td>\n",
       "      <td>7.2500</td>\n",
       "      <td>S</td>\n",
       "      <td>Third</td>\n",
       "      <td>man</td>\n",
       "      <td>True</td>\n",
       "      <td>C</td>\n",
       "      <td>Southampton</td>\n",
       "      <td>no</td>\n",
       "      <td>False</td>\n",
       "    </tr>\n",
       "    <tr>\n",
       "      <th>1</th>\n",
       "      <td>1</td>\n",
       "      <td>1</td>\n",
       "      <td>female</td>\n",
       "      <td>38.0</td>\n",
       "      <td>1</td>\n",
       "      <td>0</td>\n",
       "      <td>71.2833</td>\n",
       "      <td>C</td>\n",
       "      <td>First</td>\n",
       "      <td>woman</td>\n",
       "      <td>False</td>\n",
       "      <td>C</td>\n",
       "      <td>Cherbourg</td>\n",
       "      <td>yes</td>\n",
       "      <td>False</td>\n",
       "    </tr>\n",
       "    <tr>\n",
       "      <th>2</th>\n",
       "      <td>1</td>\n",
       "      <td>3</td>\n",
       "      <td>female</td>\n",
       "      <td>26.0</td>\n",
       "      <td>0</td>\n",
       "      <td>0</td>\n",
       "      <td>7.9250</td>\n",
       "      <td>S</td>\n",
       "      <td>Third</td>\n",
       "      <td>woman</td>\n",
       "      <td>False</td>\n",
       "      <td>C</td>\n",
       "      <td>Southampton</td>\n",
       "      <td>yes</td>\n",
       "      <td>True</td>\n",
       "    </tr>\n",
       "    <tr>\n",
       "      <th>3</th>\n",
       "      <td>1</td>\n",
       "      <td>1</td>\n",
       "      <td>female</td>\n",
       "      <td>35.0</td>\n",
       "      <td>1</td>\n",
       "      <td>0</td>\n",
       "      <td>53.1000</td>\n",
       "      <td>S</td>\n",
       "      <td>First</td>\n",
       "      <td>woman</td>\n",
       "      <td>False</td>\n",
       "      <td>C</td>\n",
       "      <td>Southampton</td>\n",
       "      <td>yes</td>\n",
       "      <td>False</td>\n",
       "    </tr>\n",
       "    <tr>\n",
       "      <th>4</th>\n",
       "      <td>0</td>\n",
       "      <td>3</td>\n",
       "      <td>male</td>\n",
       "      <td>35.0</td>\n",
       "      <td>0</td>\n",
       "      <td>0</td>\n",
       "      <td>8.0500</td>\n",
       "      <td>S</td>\n",
       "      <td>Third</td>\n",
       "      <td>man</td>\n",
       "      <td>True</td>\n",
       "      <td>C</td>\n",
       "      <td>Southampton</td>\n",
       "      <td>no</td>\n",
       "      <td>True</td>\n",
       "    </tr>\n",
       "    <tr>\n",
       "      <th>5</th>\n",
       "      <td>0</td>\n",
       "      <td>3</td>\n",
       "      <td>male</td>\n",
       "      <td>0.0</td>\n",
       "      <td>0</td>\n",
       "      <td>0</td>\n",
       "      <td>8.4583</td>\n",
       "      <td>Q</td>\n",
       "      <td>Third</td>\n",
       "      <td>man</td>\n",
       "      <td>True</td>\n",
       "      <td>C</td>\n",
       "      <td>Queenstown</td>\n",
       "      <td>no</td>\n",
       "      <td>True</td>\n",
       "    </tr>\n",
       "    <tr>\n",
       "      <th>6</th>\n",
       "      <td>0</td>\n",
       "      <td>1</td>\n",
       "      <td>male</td>\n",
       "      <td>54.0</td>\n",
       "      <td>0</td>\n",
       "      <td>0</td>\n",
       "      <td>51.8625</td>\n",
       "      <td>S</td>\n",
       "      <td>First</td>\n",
       "      <td>man</td>\n",
       "      <td>True</td>\n",
       "      <td>E</td>\n",
       "      <td>Southampton</td>\n",
       "      <td>no</td>\n",
       "      <td>True</td>\n",
       "    </tr>\n",
       "    <tr>\n",
       "      <th>7</th>\n",
       "      <td>0</td>\n",
       "      <td>3</td>\n",
       "      <td>male</td>\n",
       "      <td>2.0</td>\n",
       "      <td>3</td>\n",
       "      <td>1</td>\n",
       "      <td>21.0750</td>\n",
       "      <td>S</td>\n",
       "      <td>Third</td>\n",
       "      <td>child</td>\n",
       "      <td>False</td>\n",
       "      <td>C</td>\n",
       "      <td>Southampton</td>\n",
       "      <td>no</td>\n",
       "      <td>False</td>\n",
       "    </tr>\n",
       "    <tr>\n",
       "      <th>8</th>\n",
       "      <td>1</td>\n",
       "      <td>3</td>\n",
       "      <td>female</td>\n",
       "      <td>27.0</td>\n",
       "      <td>0</td>\n",
       "      <td>2</td>\n",
       "      <td>11.1333</td>\n",
       "      <td>S</td>\n",
       "      <td>Third</td>\n",
       "      <td>woman</td>\n",
       "      <td>False</td>\n",
       "      <td>C</td>\n",
       "      <td>Southampton</td>\n",
       "      <td>yes</td>\n",
       "      <td>False</td>\n",
       "    </tr>\n",
       "    <tr>\n",
       "      <th>9</th>\n",
       "      <td>1</td>\n",
       "      <td>2</td>\n",
       "      <td>female</td>\n",
       "      <td>14.0</td>\n",
       "      <td>1</td>\n",
       "      <td>0</td>\n",
       "      <td>30.0708</td>\n",
       "      <td>C</td>\n",
       "      <td>Second</td>\n",
       "      <td>child</td>\n",
       "      <td>False</td>\n",
       "      <td>C</td>\n",
       "      <td>Cherbourg</td>\n",
       "      <td>yes</td>\n",
       "      <td>False</td>\n",
       "    </tr>\n",
       "  </tbody>\n",
       "</table>\n",
       "</div>"
      ],
      "text/plain": [
       "   survived  pclass     sex   age  sibsp  parch     fare embarked   class  \\\n",
       "0         0       3    male  22.0      1      0   7.2500        S   Third   \n",
       "1         1       1  female  38.0      1      0  71.2833        C   First   \n",
       "2         1       3  female  26.0      0      0   7.9250        S   Third   \n",
       "3         1       1  female  35.0      1      0  53.1000        S   First   \n",
       "4         0       3    male  35.0      0      0   8.0500        S   Third   \n",
       "5         0       3    male   0.0      0      0   8.4583        Q   Third   \n",
       "6         0       1    male  54.0      0      0  51.8625        S   First   \n",
       "7         0       3    male   2.0      3      1  21.0750        S   Third   \n",
       "8         1       3  female  27.0      0      2  11.1333        S   Third   \n",
       "9         1       2  female  14.0      1      0  30.0708        C  Second   \n",
       "\n",
       "     who  adult_male deck  embark_town alive  alone  \n",
       "0    man        True    C  Southampton    no  False  \n",
       "1  woman       False    C    Cherbourg   yes  False  \n",
       "2  woman       False    C  Southampton   yes   True  \n",
       "3  woman       False    C  Southampton   yes  False  \n",
       "4    man        True    C  Southampton    no   True  \n",
       "5    man        True    C   Queenstown    no   True  \n",
       "6    man        True    E  Southampton    no   True  \n",
       "7  child       False    C  Southampton    no  False  \n",
       "8  woman       False    C  Southampton   yes  False  \n",
       "9  child       False    C    Cherbourg   yes  False  "
      ]
     },
     "execution_count": 75,
     "metadata": {},
     "output_type": "execute_result"
    }
   ],
   "source": [
    "# Aplicamos la función replace\n",
    "md_titanic.age = md_titanic.age.replace(np.nan, 0)\n",
    "  \n",
    "# print the DataFrame\n",
    "md_titanic.head(10)"
   ]
  },
  {
   "cell_type": "markdown",
   "id": "2d41a586-27e4-4561-b0aa-c9741a81f351",
   "metadata": {},
   "source": [
    "<div style=\"background-color:powderblue;\">\n",
    "\n",
    "**EJERCICIO e7_1:** \n",
    "\n",
    "Dado el dataset `ejer1` remplaza los NaN de cada columna por la media de su correspondiente columna."
   ]
  },
  {
   "cell_type": "code",
   "execution_count": null,
   "id": "5cd252c3-e3c2-4b73-a3b6-31943f590fab",
   "metadata": {},
   "outputs": [],
   "source": [
    "import pandas as pd\n",
    "ejer1 = pd.DataFrame({'a':[None, 3, None, 5, 6], 'b':[1, 3, 4, 6, None], 'c':[54, None, None, 32, 21]})\n",
    "ejer1"
   ]
  },
  {
   "cell_type": "code",
   "execution_count": null,
   "id": "9a75b422-9069-420e-aec2-41389e52136d",
   "metadata": {},
   "outputs": [],
   "source": [
    "## Escribir aquí\n",
    "\n"
   ]
  },
  {
   "cell_type": "markdown",
   "id": "a2488aac-edcf-46cb-ab50-779b07cba398",
   "metadata": {},
   "source": [
    "## Formateo de datos"
   ]
  },
  {
   "cell_type": "markdown",
   "id": "aa6c51b2-a24d-429f-b8c4-8699e36c1d35",
   "metadata": {},
   "source": [
    "Puede darse el caso de que recolectemos datos de distintas fuentes, o que los registren diferentes personas por lo que los datos pueden presentar distintas nomenclaturas o no ser constantes en términos de unidades y formatos. En este caso resulta difícil comparar los datos o agruparlos por lo que es necesario formatearlos y definir un formato único que haga más fácil las futuras operaciones. \n",
    "\n",
    "En el caso en que se requiera una conversión de unidades, por ejemplo pasar los datos de peso de libras a kilos, deberíamos de dividir las libras entre 0,45359237 para pasarlo a kilogramos. Podemos modificar la columna de las libras de la siguiente manera:"
   ]
  },
  {
   "cell_type": "markdown",
   "id": "e219d175-2172-4124-a230-6d7b0474031d",
   "metadata": {},
   "source": [
    "`df['libras']=df['libras']/0,45359237`"
   ]
  },
  {
   "cell_type": "markdown",
   "id": "07202822-15eb-4eef-b082-9b471213cbcf",
   "metadata": {},
   "source": [
    "Consejo extra: Como ahora hemos cambiado de libras a kilogramos, si quisieramos cambiar el nombre de la columna a 'kilogramos' lo haríamos de la siguiente manera:"
   ]
  },
  {
   "cell_type": "markdown",
   "id": "05796ec7-ed05-4265-9057-dd901af3ee43",
   "metadata": {},
   "source": [
    "`df.rename(columns={'libras':'kilogramos'}, inplace=True)`"
   ]
  },
  {
   "cell_type": "markdown",
   "id": "b05cdd96-ab64-4f10-86a7-174e64162d23",
   "metadata": {},
   "source": [
    "Es importante prestar atención al tipo de datos que tenemos. Si no son los correctos puede haber errores en las operaciones cuando construyamos modelos. \n",
    "\n",
    "Cuando introducimos datos en python puede ocurrir que se registren como un tipo distinto al que deseamos. Es necesario comprobar el tipo de datos y ver si se corresponden con lo que debería ser para que no interfiera en nuestros futuros cálculos, si este no fuera el caso, se debe de cambiar el tipo de datos. \n",
    "\n",
    "Para identificar qué tipos de datos tenemos usamos la función `dtypes`"
   ]
  },
  {
   "cell_type": "code",
   "execution_count": null,
   "id": "87cd07d5-6da0-408d-be9b-e2e0e1d5883f",
   "metadata": {},
   "outputs": [],
   "source": [
    "coches"
   ]
  },
  {
   "cell_type": "code",
   "execution_count": null,
   "id": "2b473366-d8c8-46d0-860e-02a5b09740a9",
   "metadata": {},
   "outputs": [],
   "source": [
    "coches.dtypes"
   ]
  },
  {
   "cell_type": "markdown",
   "id": "d8e72dc7-a634-4f2c-a6dc-cb8f80856810",
   "metadata": {},
   "source": [
    "Si fuese necesario cambiar el tipo, por ejemplo, si la columna de \"precios\" de un dataset de pisos en venta tiene type object significa que ha registrado el precio como un string, no como un número (entero o decimal). \n",
    "\n",
    "Para cambiar el type a float se usa la función `astype` especificando el tipo al que vamos a convertir la variable de la siguiente manera:"
   ]
  },
  {
   "cell_type": "code",
   "execution_count": null,
   "id": "1fe8716e-3dca-4359-80ab-72062f00c914",
   "metadata": {},
   "outputs": [],
   "source": [
    "coches.iloc[:,:-1] = coches.iloc[:,:-1].astype(float)\n",
    "coches.dtypes"
   ]
  },
  {
   "cell_type": "markdown",
   "id": "a2feede2-b907-4450-95a0-026ae5d4fc0a",
   "metadata": {},
   "source": [
    "<div style=\"background-color:powderblue;\">\n",
    "\n",
    "**EJERCICIO e7_2:** \n",
    "\n",
    "Convertir la columna `mpg` (miles per gallon) del dataframe `ejer_coches` a L/100km.\n",
    "    \n",
    "La fórmula a sefuir es la siguiente $L/100km = 235 / m.p.g.$\n",
    "\n",
    "Cambiar el nombre de la columna a `L/100km`\n",
    "\n",
    "Comprobar el tipo de la columna modificada"
   ]
  },
  {
   "cell_type": "code",
   "execution_count": null,
   "id": "82c91df4-19b0-4882-a354-6e6f0b5dfed7",
   "metadata": {},
   "outputs": [],
   "source": [
    "ejer_coches=coches.copy()\n",
    "## Escribir aquí\n"
   ]
  },
  {
   "cell_type": "markdown",
   "id": "79af1cd1-0695-448e-a6d6-3c3d6aa3503e",
   "metadata": {
    "tags": []
   },
   "source": [
    "## Normalización"
   ]
  },
  {
   "cell_type": "markdown",
   "id": "05b65ed9-9cf5-40a8-9520-d6cf4a97f524",
   "metadata": {},
   "source": [
    "Muchas veces, dependiendo de la naturaleza de los datos, nos encontramos con que hay gran variación de rango entre una columna y otra. Por ejemplo en el siguiente dataframe de casas, entre el precio y el número de habitaciones."
   ]
  },
  {
   "cell_type": "code",
   "execution_count": null,
   "id": "056e5e7d-679b-47bc-a951-bff38df1ec47",
   "metadata": {},
   "outputs": [],
   "source": [
    "## EJEMPLO CASAS\n",
    "casas=pd.read_csv('./data/kc_house_data.csv', header='infer')\n",
    "casas"
   ]
  },
  {
   "cell_type": "markdown",
   "id": "aa89d398-84df-471b-959f-4b048ff73cc6",
   "metadata": {},
   "source": [
    "\n",
    "En estos casos puede venir bien normalizar nuestros datos. Normalizar significa, en este caso, comprimir o extender los valores de la variable para que estén en un rango definido y hacer que los datos sean más uniformes, y será de ayuda para los futuros cálculos estadísticos que queramos hacer con nuestros dataset. \n",
    "\n",
    "La normalización hace posible la comparación entre distintas variables (features) y hace que todas tengan el mismo impacto en los cálculos. Además, facilita la computación haciendo los cálculos menos pesados.\n",
    "\n",
    "Pero no existe un método ideal de normalización que funcione para todas las formas de variables. Es trabajo del científico conocer cómo se distribuyen los datos, saber si existen anomalías, comprobar rangos, etc.\n",
    "\n",
    "Hay varios métodos para normalizar, pero a continuación explicaremos tres y veremos cómo se implementan en python:\n"
   ]
  },
  {
   "cell_type": "markdown",
   "id": "01464b3d-1a36-4149-9ac6-8af248070b1e",
   "metadata": {},
   "source": [
    "### Escalado de variables (Feature Scaling):"
   ]
  },
  {
   "cell_type": "markdown",
   "id": "a017f602-c1ec-4b8d-b921-5d86436dd965",
   "metadata": {},
   "source": [
    "#### Simple"
   ]
  },
  {
   "cell_type": "markdown",
   "id": "68b15dda-cfa1-4e15-a960-791fcee74c65",
   "metadata": {},
   "source": [
    "  \n",
    "  \n",
    "  \n",
    "\n",
    "$$x_{new} = \\frac{x_{old}}{x_{max}}$$\n",
    "\n",
    "Se divide cada valor por el máximo valor de esa variable. El nuevo rango de la variable es entre [0,1].\n",
    "\n",
    "Esto aplicado a nuestro dataset sería de la siguiente forma:\n"
   ]
  },
  {
   "cell_type": "code",
   "execution_count": null,
   "id": "97d172a8-867b-4497-a724-65dc713821f0",
   "metadata": {},
   "outputs": [],
   "source": [
    "price_norm_max=casas['price']/casas['price'].max()\n",
    "price_norm_max"
   ]
  },
  {
   "cell_type": "markdown",
   "id": "923ebfa5-8a14-40e4-a876-3420fad64d06",
   "metadata": {},
   "source": [
    "#### Min-Max"
   ]
  },
  {
   "cell_type": "markdown",
   "id": "15f0b91a-57fa-4595-ac86-6fb72f7eaf22",
   "metadata": {},
   "source": [
    "\n",
    "$$x_{new} = \\frac{x_{old} - x_{min}}{x_{max}- x_{min}}$$\n",
    "\n",
    "El nuevo valor es el resultado de dividir la resta del valor antiguo menos el valor mínimo de la variable por el rango de dicha variable (máximo - mínimo). El nuevo rango de la variable es entre [0,1].\n",
    "\n",
    "Siguiendo el ejemplo anterior pero aplicando la normalización Min-Max:\n"
   ]
  },
  {
   "cell_type": "code",
   "execution_count": null,
   "id": "a6dc207b-1134-407c-89aa-aa8584d77713",
   "metadata": {},
   "outputs": [],
   "source": [
    "price_norm_minmax=(casas['price']-casas['price'].min())/(casas['price'].max()-casas['price'].min())\n",
    "price_norm_minmax"
   ]
  },
  {
   "cell_type": "markdown",
   "id": "6a229c24-beeb-4813-a085-270828b715c9",
   "metadata": {},
   "source": [
    "El problema de este tipo de normalizacion, es que comprime los datos de entrada entre unos límites empíricos (el máximo y el mínimo de la variable). Esto quiere decir que si existe ruido, éste va a ser ampliado.  Esto nos dice que este método de normalización no es adecuado para señales estables."
   ]
  },
  {
   "cell_type": "markdown",
   "id": "e955e08a-be62-440a-a001-9f52cfcfdf63",
   "metadata": {},
   "source": [
    "### Escalado estándar (Z-score)"
   ]
  },
  {
   "cell_type": "markdown",
   "id": "af6b2cac-2d0f-44bf-b0c2-1bf9868ed3c4",
   "metadata": {},
   "source": [
    "Es una medida de cuántas desviaciones estándar por debajo o por encima de la media se encuentra una puntuación concreta. Son una forma de comparar los resultados con una población \"normal\". La Z-score indica dónde se encuentra la puntuación en una curva de distribución normal. Un puntaje z de cero le indica que los valores son exactamente la media, mientras que un puntaje de +3 le indica que el valor es mucho más alto que la media.\n",
    "\n",
    "<center>\n",
    "<img src=\"./images/t7_zscore.jpg\" alt=\"Drawing\" style=\"width: 250px;\"/>\n",
    "</center>\n",
    "    \n",
    "\n",
    "$$x_{new} = \\frac{x_{old} - \\mu }{\\sigma}$$\n",
    "\n",
    "\n",
    "Para cada valor se resta la media y se divide por la deviación estándar. Los valores resultantes suelen ser cercanos a 0, normalmente en un rango de [-3,3] deviaciones estándar, pero pueden ser mayores o menores también.\n",
    "\n",
    "\n",
    "Finalmente aplicamos el Z-score a nuestros datos, usando la función `.mean()`para calcular la media y `.std()`para calcular la deviación estándar: \n"
   ]
  },
  {
   "cell_type": "code",
   "execution_count": null,
   "id": "ba3dbafd-08e0-41f2-bd48-1a76e79ef3c6",
   "metadata": {},
   "outputs": [],
   "source": [
    "co2_norm_zscore=(coches2['CO2EMISSIONS']-coches2['CO2EMISSIONS'].mean())/coches2['CO2EMISSIONS'].std()\n",
    "co2_norm_zscore"
   ]
  },
  {
   "cell_type": "markdown",
   "id": "d0b4f803-6dd4-4efe-a038-f01e991c9c00",
   "metadata": {},
   "source": [
    "También la librería scipy nos ofrece una fórmula que nos lo calcula directamente: `stats.zscore()`"
   ]
  },
  {
   "cell_type": "code",
   "execution_count": null,
   "id": "a057399d-ca66-46b0-b63c-aebc89378392",
   "metadata": {},
   "outputs": [],
   "source": [
    "from scipy import stats\n",
    "ZS=stats.zscore(coches2['CO2EMISSIONS'])\n",
    "print(ZS[0:10])"
   ]
  },
  {
   "cell_type": "markdown",
   "id": "08d8ac7d-f939-4967-811f-8f6fc6ff0d0c",
   "metadata": {},
   "source": [
    "<div style=\"background-color:powderblue;\">\n",
    "\n",
    "**EJERCICIO e7_3:** \n",
    "\n",
    "Normaliza el dataset ejer_coches2 utilizando la función Min-Max. Cada columna debe ir normalizada usando el máximo y mínimo correspondiente. \n",
    "\n",
    "Comprobar que los valores resultantes están en el rango [0,1]"
   ]
  },
  {
   "cell_type": "code",
   "execution_count": null,
   "id": "c220578f-be29-40e9-8f23-dd7a94b8597d",
   "metadata": {},
   "outputs": [],
   "source": [
    "ejer_coches2=coches2.copy()\n",
    "##Escribir aquí\n"
   ]
  },
  {
   "cell_type": "markdown",
   "id": "d8eee45b-1d1d-4f55-bc29-580eb9026190",
   "metadata": {
    "tags": []
   },
   "source": [
    "## Discretización (Binning)"
   ]
  },
  {
   "cell_type": "markdown",
   "id": "30fc18ef-4f5c-4961-bf25-c514545cb065",
   "metadata": {},
   "source": [
    "Binning es la agrupación de los datos en 'bins', o porciones de acuerdo con criterios definidos.\n",
    "\n",
    "Uno de los casos más comunes de binning se realiza entre bastidores al crear un histograma.Un histograma es una representación gráfica de una variable en forma de barras, donde la altura de cada barra cuya altura dependerá de la frecuencia de los datos representados. Ya hemos visto con anterioridad como hacer histogramas en pandas."
   ]
  },
  {
   "cell_type": "code",
   "execution_count": null,
   "id": "a1ec51d9-ae3c-4892-8ad3-66aae0a1552c",
   "metadata": {},
   "outputs": [],
   "source": [
    "import seaborn as sns\n",
    "sns.set_style('whitegrid')\n",
    "coches2['CO2EMISSIONS'].plot(kind='hist',edgecolor='black', bins=10)"
   ]
  },
  {
   "cell_type": "markdown",
   "id": "d1afa45b-db33-4caf-b7fb-486887152c7b",
   "metadata": {},
   "source": [
    "Esta división nos permite hacernos una idea de cuantos elementos tenemos en cada grupo o *bin*. Así podemos ver la distribución de nuestros datos. \n",
    "Existen dos funciones en pandas que se usan para dividir nuestros datos en bins y cada una tiene sus características y usos particulares.\n",
    "- [`cut`](https://pandas.pydata.org/docs/reference/api/pandas.cut.html)\n",
    "   \n",
    "   Usamos la función `cut` para indicarle a python que queremos dividir nuestras muestras en intervalos de igual tamaño y esta función se encarga de hacer los cálculos necesarios para definir los límites de los bins. "
   ]
  },
  {
   "cell_type": "code",
   "execution_count": null,
   "id": "4be940a6-758a-4864-871c-29c35d9156f5",
   "metadata": {},
   "outputs": [],
   "source": [
    "pd.cut(coches2['CO2EMISSIONS'], bins=4)"
   ]
  },
  {
   "cell_type": "code",
   "execution_count": null,
   "id": "545b65d3-dcd1-4f34-a37d-3fd08f717533",
   "metadata": {},
   "outputs": [],
   "source": [
    "pd.cut(coches2['CO2EMISSIONS'], bins=4).value_counts()"
   ]
  },
  {
   "cell_type": "markdown",
   "id": "a0f0dfd0-1ad9-4a0d-930b-42e60bcdc0f9",
   "metadata": {},
   "source": [
    "Además, con esta función se puden especificar los límites de los bins que se quieran usar.Podremos saber exactamente cuantos elementos hay en cada bin usando la función `.value_counts()`"
   ]
  },
  {
   "cell_type": "code",
   "execution_count": null,
   "id": "dbc90083-c971-44fa-8087-11a9250b6bab",
   "metadata": {},
   "outputs": [],
   "source": [
    "bins = pd.IntervalIndex.from_tuples([(0.0, 90.0), (91.0,251.0), (252.0, 488.0)])\n",
    "cont=pd.cut(coches2['CO2EMISSIONS'], bins)\n",
    "print(cont)\n",
    "cont.value_counts()"
   ]
  },
  {
   "cell_type": "code",
   "execution_count": null,
   "id": "1479e8bc-cdd9-4a73-88fc-da2dfad08237",
   "metadata": {},
   "outputs": [],
   "source": [
    "coches2['CO2EMISSIONS'].plot.hist(bins=4,edgecolor='black')"
   ]
  },
  {
   "cell_type": "markdown",
   "id": "54d296e5-a9d7-4963-9f98-9891ffd573fe",
   "metadata": {},
   "source": [
    "- [`qcut`](https://pandas.pydata.org/docs/reference/api/pandas.qcut.html)\n",
    "La documentación de pandas describe `qcut` como una \"función de discretización basada en cuantiles\". `qcut` calculará el tamaño de cada bin para asegurarse de que la distribución en los bins es la misma (más o menos) en todos ellos. Esto supondrá que los bins no serán de igual tamaño, el rango variará, pero todos tendrán el mismo número de observaciones. \n"
   ]
  },
  {
   "cell_type": "code",
   "execution_count": null,
   "id": "c7c59bf0-19f2-46f4-abb8-afd4d8c2b3db",
   "metadata": {},
   "outputs": [],
   "source": [
    "h= pd.qcut(coches2['CO2EMISSIONS'], q=5)\n",
    "print(h)"
   ]
  },
  {
   "cell_type": "code",
   "execution_count": null,
   "id": "bcebf838-5dc1-43dd-8633-0508cc592509",
   "metadata": {},
   "outputs": [],
   "source": [
    "h.value_counts()"
   ]
  },
  {
   "cell_type": "markdown",
   "id": "77ddf6d8-265d-47ef-ba65-e6c8408365a5",
   "metadata": {},
   "source": [
    "Con el método `qcut` puedes dividir los bins basandote en los cuartiles, pero no puedes definir los límites de los bins explícitamente, a diferencia del método `cut`."
   ]
  },
  {
   "cell_type": "code",
   "execution_count": null,
   "id": "a3e63a14-09d3-4d6c-8c4b-417663571230",
   "metadata": {},
   "outputs": [],
   "source": [
    "coches2['CO2EMISSIONS'].describe()"
   ]
  },
  {
   "cell_type": "code",
   "execution_count": null,
   "id": "02304fdc-fcaf-48a2-9678-b8c8e68baeb0",
   "metadata": {},
   "outputs": [],
   "source": [
    "pd.qcut(coches2['CO2EMISSIONS'], q=[0, 0.25, 0.5, 0.75, 1], retbins=True)"
   ]
  },
  {
   "cell_type": "markdown",
   "id": "02f598c6-fc7d-4a32-a00e-77c35cdc9863",
   "metadata": {},
   "source": [
    "Algunas veces agrupar nuestros datos puede mejorar la precisión de nuestros modelos predictivos y ayuda a tener una visualización más representativa de la distribución de nuestros datos. \n",
    "Otra aplicación que puede tener el hacer binning es la de poner etiquetas a los distintos grupos y convertir variables numéricas en variables categóricas. \n",
    "\n",
    "Por ejemplo, usando `cut` podemos clasificar los coches del ejemplo anterior en 'poco contaminantes' - 'muy contaminantes' dependiendo de las emisiones de CO2: \n"
   ]
  },
  {
   "cell_type": "code",
   "execution_count": null,
   "id": "9f18b64c-c8f6-4944-8a81-deb68e6da82b",
   "metadata": {},
   "outputs": [],
   "source": [
    "labels_emissions=['Muy poco','Poco','Normal','Mucho']\n",
    "contaminantes_bins = pd.cut(coches2['CO2EMISSIONS'],bins=4,labels=labels_emissions,retbins=True)\n",
    "contaminantes_bins"
   ]
  },
  {
   "cell_type": "markdown",
   "id": "037bc015-dd7d-498c-bc25-1e97192b68ec",
   "metadata": {},
   "source": [
    "<div style=\"background-color:powderblue;\">\n",
    "\n",
    "**EJERCICIO e7_4:** \n",
    "\n",
    "Clasifica a los trabajadores de una empresa en grupos de edad (categóricos) usando la función cut. \n"
   ]
  },
  {
   "cell_type": "code",
   "execution_count": null,
   "id": "cb8fc76f-c968-4102-9100-bbd9a813f6d9",
   "metadata": {},
   "outputs": [],
   "source": [
    "ejer_edad=empresa.copy()\n",
    "##Escribir aquí"
   ]
  },
  {
   "cell_type": "markdown",
   "id": "09e843e9-fba1-469b-8f2f-b6b80b8af456",
   "metadata": {},
   "source": [
    "## Pasar de variables categóricas a variables numéricas "
   ]
  },
  {
   "cell_type": "markdown",
   "id": "d9e6d3b0-6f00-45dc-a854-808959c98a64",
   "metadata": {},
   "source": [
    "Para poder hacer operaciones sobre nuestros datos o construir modelos (clases de python que representan funciones matemáticas, ej:LinearRegression) la gran mayoría de veces requieren que nuestras variables sean numéricas. Por lo tanto, cuando tenemos variables categóricas (strings) tenemos que convertirlas a numéricas. Existen diferentes métodos para esto:\n"
   ]
  },
  {
   "cell_type": "markdown",
   "id": "a9b348ba-9476-4d45-8cd3-d0a11655c7b2",
   "metadata": {},
   "source": [
    "### Convención"
   ]
  },
  {
   "cell_type": "markdown",
   "id": "bfe54785-4795-4c2e-be5f-4bf173821086",
   "metadata": {},
   "source": [
    "Se puede establecer un código para poner etiquetas a las distintas categorias que tengamos de forma manual, por ejemplo, si quisieramos cambiar la variable 'Sexo' del siguiente dataset a numérico, podrías acordar previamente que 'Mujer'=1 y 'Hombre'=2.\n",
    "\n",
    "\n",
    "Nombre | Sexo | Sexo_num\n",
    ":--------: | ------- | --------\n",
    "Juan | Hombre | 2\n",
    "Laura| Mujer | 1\n",
    "Pepe| Hombre | 2\n",
    "Carlos| Hombre | 2 \n",
    "Esther | Mujer | 1 \n",
    "Álvaro | Hombre | 2 \n",
    "Rosa | Mujer | 1 \n",
    "\n",
    "\n",
    "De este modo tendríamos la variable convertida a numérico. El código para conseguirlo sería el siguiente:"
   ]
  },
  {
   "cell_type": "code",
   "execution_count": null,
   "id": "ac35d5ac-56a2-4cb8-9fb3-f5744b36c6b0",
   "metadata": {},
   "outputs": [],
   "source": [
    "empresa[\"Sexo_num\"] = empresa.apply(lambda x: 1 if x[\"Sexo\"] == 'Mujer' else 2, axis=1)\n",
    "empresa[['Nombre','Sexo','Sexo_num']]"
   ]
  },
  {
   "cell_type": "markdown",
   "id": "f361886b-5d22-43da-ac95-5a0ec22acdef",
   "metadata": {},
   "source": [
    "### One-hot encoding"
   ]
  },
  {
   "cell_type": "markdown",
   "id": "d21a2d9a-492d-420a-9306-8ab754ceba1c",
   "metadata": {},
   "source": [
    "Este método consiste en crear unas variables extras con el nombre de cada etiqueta e indicar con 1s y 0s la categoría a la que pertenece cada evento (1=si, 0=no).\n",
    "Por ejemplo, fijémosnos en la clase en la que viajaban los pasajeros del Titanic. Una variable categórica que puede ser Primera, Segunda o Tercera (First, Second, Third):\n"
   ]
  },
  {
   "cell_type": "code",
   "execution_count": null,
   "id": "82a18288-1d8e-4de8-be35-375efaf66558",
   "metadata": {},
   "outputs": [],
   "source": [
    "titanic"
   ]
  },
  {
   "cell_type": "markdown",
   "id": "01b438dc-9532-4877-9654-205a220ec74e",
   "metadata": {},
   "source": [
    "Al hacer One Hot Encoding crearemos tres nuevas variables, cada una con el nombre de uno de los valores de titanic['class'] y estas clases \n",
    "\n",
    "Hay que tener en cuenta, que no importa el número de categorías o etiquetas que tengamos, sólo una de ellas puede ser 1 siendo el resto 0. \n",
    "\n",
    "Para poder crear estas variables ficticias o \"dummy variables\" se usa la función de pandas [`.get_dummies`](https://pandas.pydata.org/docs/reference/api/pandas.get_dummies.html)"
   ]
  },
  {
   "cell_type": "code",
   "execution_count": null,
   "id": "aa1f1787-2795-4040-91c8-27bef2db53bd",
   "metadata": {},
   "outputs": [],
   "source": [
    "pd.get_dummies(titanic['class'])"
   ]
  },
  {
   "cell_type": "markdown",
   "id": "56293dce-1180-44e9-b749-2dda4c4fc139",
   "metadata": {},
   "source": [
    "<div style=\"background-color:powderblue;\">\n",
    "\n",
    "**EJERCICIO e7_5:** \n",
    "\n",
    "Dado el dataset `ejer_empresa` convierte a numérico los departamentos a los que pertenecen los trabajadores usando One-Hot-Encoding y añádelo al dataset. Por último elimina la columna `Departamento`."
   ]
  },
  {
   "cell_type": "code",
   "execution_count": null,
   "id": "617d2218-ad37-4968-a7bc-24e56ee9a85b",
   "metadata": {},
   "outputs": [],
   "source": [
    "ejer_empresa=empresa.copy()\n",
    "##Escribir aquí"
   ]
  },
  {
   "cell_type": "markdown",
   "id": "5cc5d0cc-4111-41b4-bce3-05c75cdf98d4",
   "metadata": {},
   "source": [
    "### Boxplots"
   ]
  },
  {
   "cell_type": "markdown",
   "id": "6db97b7d-3ac0-4aca-950c-b42a0d932f6a",
   "metadata": {},
   "source": [
    "El diagrama de cajas o *boxplot* es un método estandarizado para representar gráficamente una serie de datos numéricos a través de sus cuartiles. De esta manera, se muestran a simple vista la mediana y los cuartiles de los datos y también pueden representarse sus valores atípicos.\n",
    "También proporcionan una visión general de la simetría de la distribución de los datos; si la mediana no está en el centro del rectángulo, la distribución no es simétrica.\n",
    "\n",
    "Usaremos la librería seaborn para construir los diagramas de cajas, más concretamente la función [`.boxplot()`](https://seaborn.pydata.org/generated/seaborn.boxplot.html)\n",
    "\n",
    "Si lo que queremos es agrupar los datos dependiendo de otra variable, la definiremos en el eje x"
   ]
  },
  {
   "cell_type": "code",
   "execution_count": 44,
   "id": "cae6f206-64c3-4c00-bbc7-0d2764b77f2a",
   "metadata": {},
   "outputs": [
    {
     "data": {
      "text/plain": [
       "Text(0.5, 1.0, 'Boxplot Edad dividido por Sexo')"
      ]
     },
     "execution_count": 44,
     "metadata": {},
     "output_type": "execute_result"
    },
    {
     "data": {
      "image/png": "[encoded data removed]",
      "text/plain": [
       "<Figure size 1080x360 with 2 Axes>"
      ]
     },
     "metadata": {},
     "output_type": "display_data"
    }
   ],
   "source": [
    "## Boxplot vertical\n",
    "figure,axes = plt.subplots(nrows=1, ncols=2, figsize=(15, 5))\n",
    "sns.boxplot(y=empresa.Edad, data=empresa, ax=axes[0])\n",
    "axes[0].set_title('Boxplot Edad',fontsize = 10)\n",
    "sns.boxplot(x=empresa.Sexo,y=empresa.Edad, data=empresa, ax=axes[1])\n",
    "axes[1].set_title('Boxplot Edad dividido por Sexo',fontsize = 10)"
   ]
  },
  {
   "cell_type": "markdown",
   "id": "85e67a2f-f944-40f0-924f-e0b29cfb7eb7",
   "metadata": {},
   "source": [
    "<div style=\"background-color:powderblue;\">\n",
    "\n",
    "**EJERCICIO e7_6:** \n",
    "\n",
    "Dado el dataset `ejer_titanic` visualizar usando un boxplot la edad de mujeres y hombres que había en el titanic, clasificados por la clase en la que viajaban (Lo tenemos numérico en la variable `pclass`)."
   ]
  },
  {
   "cell_type": "code",
   "execution_count": 45,
   "id": "85293e13-f1b5-4675-b6ff-a8cc3c178e20",
   "metadata": {},
   "outputs": [],
   "source": [
    "ejer_titanic=titanic.copy()\n",
    "## Escribir aquí\n"
   ]
  },
  {
   "cell_type": "markdown",
   "id": "e1b4176c-8f35-49cb-9752-01f244bab643",
   "metadata": {
    "tags": []
   },
   "source": [
    "## Correlación"
   ]
  },
  {
   "cell_type": "markdown",
   "id": "6f40b0ab-7660-4c5f-97e6-023630b74455",
   "metadata": {},
   "source": [
    "La correlacción es un método usado en estadística para saber hasta que punto dos variables son independientes entre sí, cómo afecta el cambio de una de estas variables a la otra.\n",
    "\n",
    "Por ejemplo: \n",
    "  - Calor -> Venta de ventiladores\n",
    "  - Navidades -> Consumo de turrón\n",
    "\n",
    "Esta relación no tiene por qué ser de causalidad. "
   ]
  },
  {
   "cell_type": "markdown",
   "id": "db293b48-93bc-4f39-a6c1-10a1d331a6af",
   "metadata": {},
   "source": [
    "Vamos a ver el ejemplo práctico de correlación entre el precio de una casa y los pies la superficie habitable de esta. Para visualizarlo de la mejor manera posible usamos un scatter plot, o gráfico de dispersión en el que mostraremos además la recta de regresión lineal. Para ello usaremos la función `sns.regplot`  que nos lo hace directamente. "
   ]
  },
  {
   "cell_type": "code",
   "execution_count": 46,
   "id": "69785a43-8486-4884-894c-d74b4cafc910",
   "metadata": {},
   "outputs": [
    {
     "data": {
      "image/png": "[encoded data removed]",
      "text/plain": [
       "<Figure size 432x288 with 1 Axes>"
      ]
     },
     "metadata": {},
     "output_type": "display_data"
    }
   ],
   "source": [
    "ax=sns.regplot(x='sqft_living',y='price',data=casas)"
   ]
  },
  {
   "cell_type": "markdown",
   "id": "2c727c9d-e846-453d-8817-4269e5db5fae",
   "metadata": {},
   "source": [
    "En este ejemplo, vemos que la recta tiene una pendiente positiva, que nos indica que el valor medio de los edificios tiene relación con el número total de superficie habitable. Una pendiente negativa indicaría una correlación inversa y una pendiente cercana a cero (línea horizontal) nos indicaría que no hay correlación entre esas dos variables. \n",
    "No se puede usar variables que tengan poca correlación para predecir valores. "
   ]
  },
  {
   "cell_type": "markdown",
   "id": "597fa51b-17fe-4cac-a053-96aba992dbd6",
   "metadata": {},
   "source": [
    "### Coeficiente de Pearson"
   ]
  },
  {
   "cell_type": "markdown",
   "id": "33ad9e52-cc76-4598-be4f-3ca100c0631a",
   "metadata": {},
   "source": [
    "La correlación de Pearson es la medida de cuán fuerte es una correlación. Nos da dos valores: El coeficiente de correlación y el P-value\n",
    "- Coeficiente de Correlación\n",
    "    \n",
    "Nos muestra el grado de correlación entre dos variables. El rango de este coeficiente es [-1,1]. Si el valor se acerca a -1 nos indica que hay una fuerte correlación y que esta es negativa, si el valor es cercano a 1 es una correlación fuerte y positiva y si es 0 significa que no hay correlación.  \n",
    "\n",
    "- P-value\n",
    "\n",
    "Nos dice lo seguros que estamos de la correlación dada por el coeficiente de correlación, o lo que es lo mismo, cuánto de verdad hay en nuestros cálculos. \n",
    "Un P-value < 0.001 indica gran veracidad de los cálculos. Un valor entre 0,001 y 0,05 nos da una certeza moderada. Un valor entre 0,05 y 0,1 nos dará una certeza débil. Y un valor P mayor que 0,1 no nos dará ninguna certeza de correlación. \n",
    "\n",
    "Una correlación fuerte tiene que cumplir ambos criterios, un coeficiente cercano a 1 o -1 y un P-value lo más bajo posible.\n",
    "Vamos a usar la función [`.pearsonr`](https://docs.scipy.org/doc/scipy/reference/generated/scipy.stats.pearsonr.html)de la librería scipy que contiene herramientas y algoritmos matemáticos y vamos a ver lo fuerte o débil que es la correlación entre el número de habitaciones y el precio de los edificios del ejemplo anterior. \n"
   ]
  },
  {
   "cell_type": "code",
   "execution_count": 47,
   "id": "35ab15ad-3909-4550-9c7b-8d16dd997095",
   "metadata": {},
   "outputs": [
    {
     "name": "stdout",
     "output_type": "stream",
     "text": [
      "Coeficiente de Pearson: 0.7020350546118\n",
      "\n",
      "P-value: 0.0\n"
     ]
    }
   ],
   "source": [
    "from scipy import stats\n",
    "pearson_coef,p_value=stats.pearsonr(casas.price,casas.sqft_living)\n",
    "print('Coeficiente de Pearson:',pearson_coef)\n",
    "print('\\nP-value:',p_value)"
   ]
  },
  {
   "cell_type": "markdown",
   "id": "0f571d8c-da29-4d27-bd81-615c3a367afa",
   "metadata": {},
   "source": [
    "Otra forma de representar estos coeficientes de Pearson son los llamados *\"heat maps\"* o mapas de calor, donde de manera visual podemos hacernos una idea de los grados de correlación entre las variables de nuestro data set entero. \n",
    "Es una matriz de colores, en los que cada color representa un valor del coeficiente. \n",
    "Utilizaremos el método `heatmap()` de Seaborn para trazar la matriz.\n",
    "\n",
    "Para crear los heat maps usamos la función `.corr` de pandas que, por defecto, calcula el coeficiente de correlación de Pearson pero también podemos especificar la utilización de otros métodos de correlación pasando un valor apropiado al parámetro “método”.\n",
    "\n"
   ]
  },
  {
   "cell_type": "code",
   "execution_count": 48,
   "id": "fb4b7af3-2f97-48df-a095-d4f1a6057733",
   "metadata": {},
   "outputs": [
    {
     "data": {
      "image/png": "[encoded data removed]",
      "text/plain": [
       "<Figure size 432x288 with 2 Axes>"
      ]
     },
     "metadata": {},
     "output_type": "display_data"
    }
   ],
   "source": [
    "sub=casas.iloc[:,2:9]\n",
    "correlation_mat = sub.corr()\n",
    "sns.heatmap(correlation_mat, annot = True)#El parámetro ‘annot=True’ muestra los valores del coeficiente de correlación en cada celda.\n",
    "plt.title('Correlation matrix')\n",
    "plt.show()\n"
   ]
  },
  {
   "cell_type": "markdown",
   "id": "f22b1038-e7a2-44b8-83cd-452e49716c79",
   "metadata": {},
   "source": [
    "Si nos fijamos , la diagonal de la matriz es todo 1s, que es la correlación de cada variable con sí misma, obviamente, esta es máxima.\n",
    "\n",
    "Un **valor positivo grande (cercano a 1)** indica una fuerte correlación positiva, es decir, si el valor de una de las variables aumenta, el valor de la otra variable aumenta también.\n",
    "\n",
    "Un **valor negativo grande (cercano a -1)** indica una fuerte correlación negativa, es decir, que el valor de una de las variables disminuye al aumentar el de la otra y viceversa.\n",
    "\n",
    "Un **valor cercano a 0 (tanto positivo como negativo)** indica la ausencia de cualquier correlación entre las dos variables, y por lo tanto esas variables son independientes entre sí."
   ]
  },
  {
   "cell_type": "markdown",
   "id": "d5a0afaf-f14d-48f4-bc0c-0b6f697c7d96",
   "metadata": {
    "tags": []
   },
   "source": [
    "# Outliers "
   ]
  },
  {
   "cell_type": "markdown",
   "id": "b7601852-5e49-44a6-b392-7134eed8541b",
   "metadata": {},
   "source": [
    "Un valor atípico o *outlier* es una observación que difiere de los datos que de otro modo estarían bien estructurados. Es un valor que numéricamente es muy distinto al resto de los datos, lo que puede afectar a nuestros datos. Por ejemplo, si tenemos datos de emisiones de CO2 de coches y uno de ellos resulta que tenía un problema de fábrica y emitía más. \n",
    "Ese dato nos va a afectar a la media y a los cuartiles, y puede ser que queramos identificar ese dato para poder eliminarlo de nuestro dataset.\n",
    "\n",
    "**¡OJO!** Es muy necesario conocer la naturaleza de nuestros datos, y saber si la eliminación de esos outliers va a perjudicar a mi objetivo. No es lo mismo eliminar un dato, como el ejemplo anterior en un estudio sobre la emisión de CO2 de coches en buen estado que en un ensayo científico donde eliminar datos anómalos puede considerarse falseo de datos. \n",
    "\n",
    "\n",
    "Podemos hacernos una idea de nuestros datos haciendo un histograma, pues veremos la distribución. En los boxplots también están representados los outliers."
   ]
  },
  {
   "cell_type": "code",
   "execution_count": 49,
   "id": "7730c0f6-25b5-4c49-ac79-a300f4353eea",
   "metadata": {},
   "outputs": [
    {
     "data": {
      "text/plain": [
       "<AxesSubplot:ylabel='Frequency'>"
      ]
     },
     "execution_count": 49,
     "metadata": {},
     "output_type": "execute_result"
    },
    {
     "data": {
      "image/png": "[encoded data removed]",
      "text/plain": [
       "<Figure size 432x288 with 1 Axes>"
      ]
     },
     "metadata": {},
     "output_type": "display_data"
    }
   ],
   "source": [
    "casas.price.plot(kind='hist',edgecolor='black', bins=10)"
   ]
  },
  {
   "cell_type": "code",
   "execution_count": 50,
   "id": "6877acb2-d957-43fb-92f8-9649284dac20",
   "metadata": {},
   "outputs": [
    {
     "data": {
      "image/png": "[encoded data removed]",
      "text/plain": [
       "<Figure size 4320x1440 with 1 Axes>"
      ]
     },
     "metadata": {},
     "output_type": "display_data"
    }
   ],
   "source": [
    "plt.figure(figsize=(60,20))\n",
    "plt.boxplot(casas.price, vert=False)\n",
    "plt.show()\n",
    "\n",
    "# plt.figure(figsize=(60,20))\n",
    "# plt.boxplot(coches2.CO2EMISSIONS, vert=False)\n",
    "# plt.show()"
   ]
  },
  {
   "cell_type": "markdown",
   "id": "66bcdc89-2009-4e3a-b442-c836a85fa959",
   "metadata": {},
   "source": [
    "Una manera de eliminarlos es usar los Z-score que hemos visto con anterioridad. Si se alejan más de 3 deviaciones estándar de la media pueden considerarse outliers, con lo que podríamos eliminar todos aquellos datos que no cumplan esa norma."
   ]
  },
  {
   "cell_type": "code",
   "execution_count": 51,
   "id": "bb3de387-64ba-4e26-ba46-3513681edc8e",
   "metadata": {},
   "outputs": [
    {
     "data": {
      "text/plain": [
       "0       -0.866717\n",
       "1       -0.005688\n",
       "2       -0.980849\n",
       "3        0.174090\n",
       "4       -0.081958\n",
       "           ...   \n",
       "21608   -0.490545\n",
       "21609   -0.381588\n",
       "21610   -0.375865\n",
       "21611   -0.381588\n",
       "21612   -0.585882\n",
       "Name: price, Length: 21613, dtype: float64"
      ]
     },
     "execution_count": 51,
     "metadata": {},
     "output_type": "execute_result"
    }
   ],
   "source": [
    "#Primero calculamos los Z-scores de la columna que nos interesa analizar.\n",
    "ZS=stats.zscore(casas.price)\n",
    "ZS"
   ]
  },
  {
   "cell_type": "code",
   "execution_count": 52,
   "id": "a9efa095-c26c-4ee2-bfa7-18466720852b",
   "metadata": {},
   "outputs": [
    {
     "data": {
      "text/plain": [
       "(21207, 22)"
      ]
     },
     "execution_count": 52,
     "metadata": {},
     "output_type": "execute_result"
    }
   ],
   "source": [
    "casas['abs_z_scores'] = np.abs(ZS) #Nos quedamos con el valor absoluto\n",
    "new_casas=casas[casas['abs_z_scores'] < 3] #Seleccionamos sólo aquellos que tienen un Z-score menor de |3|\n",
    "new_casas.shape #Hemos eliminado elementos"
   ]
  },
  {
   "cell_type": "markdown",
   "id": "bc1a5803-0ea1-4eaa-9e7f-8031336738d1",
   "metadata": {},
   "source": [
    "Sin embargo, en otras ocasiones precisamente lo que nos interesa no es eliminar los outlier si no detectarlos, por ejemplo, en un log de un ordenador valores anómalos pueden indicar una sobrecarga del sistema o un ataque cibernético. Si este fuera el caso podríamos proceder de la misma manera que en el ejemplo anterior, pero en vez de eliminar esos datos los guardaríamos en otra variable."
   ]
  },
  {
   "cell_type": "code",
   "execution_count": 53,
   "id": "0dd23356-89e8-486e-a323-bcfa44b1b36e",
   "metadata": {},
   "outputs": [
    {
     "name": "stdout",
     "output_type": "stream",
     "text": [
      "(406, 22)\n"
     ]
    },
    {
     "data": {
      "text/html": [
       "<div>\n",
       "<style scoped>\n",
       "    .dataframe tbody tr th:only-of-type {\n",
       "        vertical-align: middle;\n",
       "    }\n",
       "\n",
       "    .dataframe tbody tr th {\n",
       "        vertical-align: top;\n",
       "    }\n",
       "\n",
       "    .dataframe thead th {\n",
       "        text-align: right;\n",
       "    }\n",
       "</style>\n",
       "<table border=\"1\" class=\"dataframe\">\n",
       "  <thead>\n",
       "    <tr style=\"text-align: right;\">\n",
       "      <th></th>\n",
       "      <th>id</th>\n",
       "      <th>date</th>\n",
       "      <th>price</th>\n",
       "      <th>bedrooms</th>\n",
       "      <th>bathrooms</th>\n",
       "      <th>sqft_living</th>\n",
       "      <th>sqft_lot</th>\n",
       "      <th>floors</th>\n",
       "      <th>waterfront</th>\n",
       "      <th>view</th>\n",
       "      <th>...</th>\n",
       "      <th>sqft_above</th>\n",
       "      <th>sqft_basement</th>\n",
       "      <th>yr_built</th>\n",
       "      <th>yr_renovated</th>\n",
       "      <th>zipcode</th>\n",
       "      <th>lat</th>\n",
       "      <th>long</th>\n",
       "      <th>sqft_living15</th>\n",
       "      <th>sqft_lot15</th>\n",
       "      <th>abs_z_scores</th>\n",
       "    </tr>\n",
       "  </thead>\n",
       "  <tbody>\n",
       "    <tr>\n",
       "      <th>21</th>\n",
       "      <td>2524049179</td>\n",
       "      <td>20140826T000000</td>\n",
       "      <td>2000000.0</td>\n",
       "      <td>3</td>\n",
       "      <td>2.75</td>\n",
       "      <td>3050</td>\n",
       "      <td>44867</td>\n",
       "      <td>1.0</td>\n",
       "      <td>0</td>\n",
       "      <td>4</td>\n",
       "      <td>...</td>\n",
       "      <td>2330.0</td>\n",
       "      <td>720</td>\n",
       "      <td>1968</td>\n",
       "      <td>0</td>\n",
       "      <td>98040</td>\n",
       "      <td>47.5316</td>\n",
       "      <td>-122.233</td>\n",
       "      <td>4110</td>\n",
       "      <td>20336</td>\n",
       "      <td>3.976675</td>\n",
       "    </tr>\n",
       "    <tr>\n",
       "      <th>153</th>\n",
       "      <td>7855801670</td>\n",
       "      <td>20150401T000000</td>\n",
       "      <td>2250000.0</td>\n",
       "      <td>4</td>\n",
       "      <td>3.25</td>\n",
       "      <td>5180</td>\n",
       "      <td>19850</td>\n",
       "      <td>2.0</td>\n",
       "      <td>0</td>\n",
       "      <td>3</td>\n",
       "      <td>...</td>\n",
       "      <td>3540.0</td>\n",
       "      <td>1640</td>\n",
       "      <td>2006</td>\n",
       "      <td>0</td>\n",
       "      <td>98006</td>\n",
       "      <td>47.5620</td>\n",
       "      <td>-122.162</td>\n",
       "      <td>3160</td>\n",
       "      <td>9750</td>\n",
       "      <td>4.657654</td>\n",
       "    </tr>\n",
       "    <tr>\n",
       "      <th>246</th>\n",
       "      <td>2025069065</td>\n",
       "      <td>20140929T000000</td>\n",
       "      <td>2400000.0</td>\n",
       "      <td>4</td>\n",
       "      <td>2.50</td>\n",
       "      <td>3650</td>\n",
       "      <td>8354</td>\n",
       "      <td>1.0</td>\n",
       "      <td>1</td>\n",
       "      <td>4</td>\n",
       "      <td>...</td>\n",
       "      <td>1830.0</td>\n",
       "      <td>1820</td>\n",
       "      <td>2000</td>\n",
       "      <td>0</td>\n",
       "      <td>98074</td>\n",
       "      <td>47.6338</td>\n",
       "      <td>-122.072</td>\n",
       "      <td>3120</td>\n",
       "      <td>18841</td>\n",
       "      <td>5.066241</td>\n",
       "    </tr>\n",
       "    <tr>\n",
       "      <th>269</th>\n",
       "      <td>7960900060</td>\n",
       "      <td>20150504T000000</td>\n",
       "      <td>2900000.0</td>\n",
       "      <td>4</td>\n",
       "      <td>3.25</td>\n",
       "      <td>5050</td>\n",
       "      <td>20100</td>\n",
       "      <td>1.5</td>\n",
       "      <td>0</td>\n",
       "      <td>2</td>\n",
       "      <td>...</td>\n",
       "      <td>4750.0</td>\n",
       "      <td>300</td>\n",
       "      <td>1982</td>\n",
       "      <td>2008</td>\n",
       "      <td>98004</td>\n",
       "      <td>47.6312</td>\n",
       "      <td>-122.223</td>\n",
       "      <td>3890</td>\n",
       "      <td>20060</td>\n",
       "      <td>6.428198</td>\n",
       "    </tr>\n",
       "    <tr>\n",
       "      <th>282</th>\n",
       "      <td>7424700045</td>\n",
       "      <td>20150513T000000</td>\n",
       "      <td>2050000.0</td>\n",
       "      <td>5</td>\n",
       "      <td>3.00</td>\n",
       "      <td>3830</td>\n",
       "      <td>8480</td>\n",
       "      <td>2.0</td>\n",
       "      <td>0</td>\n",
       "      <td>1</td>\n",
       "      <td>...</td>\n",
       "      <td>2630.0</td>\n",
       "      <td>1200</td>\n",
       "      <td>1905</td>\n",
       "      <td>1994</td>\n",
       "      <td>98122</td>\n",
       "      <td>47.6166</td>\n",
       "      <td>-122.287</td>\n",
       "      <td>3050</td>\n",
       "      <td>7556</td>\n",
       "      <td>4.112871</td>\n",
       "    </tr>\n",
       "    <tr>\n",
       "      <th>...</th>\n",
       "      <td>...</td>\n",
       "      <td>...</td>\n",
       "      <td>...</td>\n",
       "      <td>...</td>\n",
       "      <td>...</td>\n",
       "      <td>...</td>\n",
       "      <td>...</td>\n",
       "      <td>...</td>\n",
       "      <td>...</td>\n",
       "      <td>...</td>\n",
       "      <td>...</td>\n",
       "      <td>...</td>\n",
       "      <td>...</td>\n",
       "      <td>...</td>\n",
       "      <td>...</td>\n",
       "      <td>...</td>\n",
       "      <td>...</td>\n",
       "      <td>...</td>\n",
       "      <td>...</td>\n",
       "      <td>...</td>\n",
       "      <td>...</td>\n",
       "    </tr>\n",
       "    <tr>\n",
       "      <th>21514</th>\n",
       "      <td>3262300818</td>\n",
       "      <td>20150227T000000</td>\n",
       "      <td>1865000.0</td>\n",
       "      <td>4</td>\n",
       "      <td>3.75</td>\n",
       "      <td>3790</td>\n",
       "      <td>8797</td>\n",
       "      <td>2.0</td>\n",
       "      <td>0</td>\n",
       "      <td>0</td>\n",
       "      <td>...</td>\n",
       "      <td>3290.0</td>\n",
       "      <td>500</td>\n",
       "      <td>2006</td>\n",
       "      <td>0</td>\n",
       "      <td>98039</td>\n",
       "      <td>47.6351</td>\n",
       "      <td>-122.236</td>\n",
       "      <td>2660</td>\n",
       "      <td>12150</td>\n",
       "      <td>3.608947</td>\n",
       "    </tr>\n",
       "    <tr>\n",
       "      <th>21530</th>\n",
       "      <td>8964800330</td>\n",
       "      <td>20150407T000000</td>\n",
       "      <td>3000000.0</td>\n",
       "      <td>4</td>\n",
       "      <td>3.75</td>\n",
       "      <td>5090</td>\n",
       "      <td>14823</td>\n",
       "      <td>1.0</td>\n",
       "      <td>0</td>\n",
       "      <td>0</td>\n",
       "      <td>...</td>\n",
       "      <td>4180.0</td>\n",
       "      <td>910</td>\n",
       "      <td>2013</td>\n",
       "      <td>0</td>\n",
       "      <td>98004</td>\n",
       "      <td>47.6200</td>\n",
       "      <td>-122.207</td>\n",
       "      <td>3030</td>\n",
       "      <td>12752</td>\n",
       "      <td>6.700590</td>\n",
       "    </tr>\n",
       "    <tr>\n",
       "      <th>21540</th>\n",
       "      <td>715010530</td>\n",
       "      <td>20150113T000000</td>\n",
       "      <td>1881580.0</td>\n",
       "      <td>5</td>\n",
       "      <td>3.50</td>\n",
       "      <td>4410</td>\n",
       "      <td>13000</td>\n",
       "      <td>2.0</td>\n",
       "      <td>0</td>\n",
       "      <td>3</td>\n",
       "      <td>...</td>\n",
       "      <td>2920.0</td>\n",
       "      <td>1490</td>\n",
       "      <td>2014</td>\n",
       "      <td>0</td>\n",
       "      <td>98006</td>\n",
       "      <td>47.5382</td>\n",
       "      <td>-122.111</td>\n",
       "      <td>5790</td>\n",
       "      <td>12969</td>\n",
       "      <td>3.654109</td>\n",
       "    </tr>\n",
       "    <tr>\n",
       "      <th>21568</th>\n",
       "      <td>524059330</td>\n",
       "      <td>20150130T000000</td>\n",
       "      <td>1700000.0</td>\n",
       "      <td>4</td>\n",
       "      <td>3.50</td>\n",
       "      <td>3830</td>\n",
       "      <td>8963</td>\n",
       "      <td>2.0</td>\n",
       "      <td>0</td>\n",
       "      <td>0</td>\n",
       "      <td>...</td>\n",
       "      <td>3120.0</td>\n",
       "      <td>710</td>\n",
       "      <td>2014</td>\n",
       "      <td>0</td>\n",
       "      <td>98004</td>\n",
       "      <td>47.5990</td>\n",
       "      <td>-122.197</td>\n",
       "      <td>2190</td>\n",
       "      <td>10777</td>\n",
       "      <td>3.159501</td>\n",
       "    </tr>\n",
       "    <tr>\n",
       "      <th>21576</th>\n",
       "      <td>9253900271</td>\n",
       "      <td>20150107T000000</td>\n",
       "      <td>3567000.0</td>\n",
       "      <td>5</td>\n",
       "      <td>4.50</td>\n",
       "      <td>4850</td>\n",
       "      <td>10584</td>\n",
       "      <td>2.0</td>\n",
       "      <td>1</td>\n",
       "      <td>4</td>\n",
       "      <td>...</td>\n",
       "      <td>3540.0</td>\n",
       "      <td>1310</td>\n",
       "      <td>2007</td>\n",
       "      <td>0</td>\n",
       "      <td>98008</td>\n",
       "      <td>47.5943</td>\n",
       "      <td>-122.110</td>\n",
       "      <td>3470</td>\n",
       "      <td>18270</td>\n",
       "      <td>8.245049</td>\n",
       "    </tr>\n",
       "  </tbody>\n",
       "</table>\n",
       "<p>406 rows × 22 columns</p>\n",
       "</div>"
      ],
      "text/plain": [
       "               id             date      price  bedrooms  bathrooms  \\\n",
       "21     2524049179  20140826T000000  2000000.0         3       2.75   \n",
       "153    7855801670  20150401T000000  2250000.0         4       3.25   \n",
       "246    2025069065  20140929T000000  2400000.0         4       2.50   \n",
       "269    7960900060  20150504T000000  2900000.0         4       3.25   \n",
       "282    7424700045  20150513T000000  2050000.0         5       3.00   \n",
       "...           ...              ...        ...       ...        ...   \n",
       "21514  3262300818  20150227T000000  1865000.0         4       3.75   \n",
       "21530  8964800330  20150407T000000  3000000.0         4       3.75   \n",
       "21540   715010530  20150113T000000  1881580.0         5       3.50   \n",
       "21568   524059330  20150130T000000  1700000.0         4       3.50   \n",
       "21576  9253900271  20150107T000000  3567000.0         5       4.50   \n",
       "\n",
       "       sqft_living  sqft_lot  floors  waterfront  view  ...  sqft_above  \\\n",
       "21            3050     44867     1.0           0     4  ...      2330.0   \n",
       "153           5180     19850     2.0           0     3  ...      3540.0   \n",
       "246           3650      8354     1.0           1     4  ...      1830.0   \n",
       "269           5050     20100     1.5           0     2  ...      4750.0   \n",
       "282           3830      8480     2.0           0     1  ...      2630.0   \n",
       "...            ...       ...     ...         ...   ...  ...         ...   \n",
       "21514         3790      8797     2.0           0     0  ...      3290.0   \n",
       "21530         5090     14823     1.0           0     0  ...      4180.0   \n",
       "21540         4410     13000     2.0           0     3  ...      2920.0   \n",
       "21568         3830      8963     2.0           0     0  ...      3120.0   \n",
       "21576         4850     10584     2.0           1     4  ...      3540.0   \n",
       "\n",
       "       sqft_basement  yr_built  yr_renovated  zipcode      lat     long  \\\n",
       "21               720      1968             0    98040  47.5316 -122.233   \n",
       "153             1640      2006             0    98006  47.5620 -122.162   \n",
       "246             1820      2000             0    98074  47.6338 -122.072   \n",
       "269              300      1982          2008    98004  47.6312 -122.223   \n",
       "282             1200      1905          1994    98122  47.6166 -122.287   \n",
       "...              ...       ...           ...      ...      ...      ...   \n",
       "21514            500      2006             0    98039  47.6351 -122.236   \n",
       "21530            910      2013             0    98004  47.6200 -122.207   \n",
       "21540           1490      2014             0    98006  47.5382 -122.111   \n",
       "21568            710      2014             0    98004  47.5990 -122.197   \n",
       "21576           1310      2007             0    98008  47.5943 -122.110   \n",
       "\n",
       "       sqft_living15  sqft_lot15  abs_z_scores  \n",
       "21              4110       20336      3.976675  \n",
       "153             3160        9750      4.657654  \n",
       "246             3120       18841      5.066241  \n",
       "269             3890       20060      6.428198  \n",
       "282             3050        7556      4.112871  \n",
       "...              ...         ...           ...  \n",
       "21514           2660       12150      3.608947  \n",
       "21530           3030       12752      6.700590  \n",
       "21540           5790       12969      3.654109  \n",
       "21568           2190       10777      3.159501  \n",
       "21576           3470       18270      8.245049  \n",
       "\n",
       "[406 rows x 22 columns]"
      ]
     },
     "execution_count": 53,
     "metadata": {},
     "output_type": "execute_result"
    }
   ],
   "source": [
    "casas['abs_z_scores'] = np.abs(ZS) #Nos quedamos con el valor absoluto\n",
    "outliers_casas=casas[casas['abs_z_scores'] >= 3] #Seleccionamos sólo aquellos que tienen un Z-score mayor o igual de |3|\n",
    "print(outliers_casas.shape) #Nos hemos quedado con los outliers\n",
    "outliers_casas"
   ]
  },
  {
   "cell_type": "markdown",
   "id": "8862b3c6-4acb-4950-b447-31b914f6071a",
   "metadata": {},
   "source": [
    "## Análisis estadístico con Sklearn"
   ]
  },
  {
   "cell_type": "markdown",
   "id": "06cc53b6-9cb7-40c2-982d-b91607ee0eb8",
   "metadata": {},
   "source": [
    "Para el tratamiento con datos usando Python las librerías más comunes son **Numpy**, **Pandas** y **Scipy**, como ya hemos visto anteriormente.\n",
    "\n",
    "<table><tr>\n",
    "    <td> <img src=\"./images/t9_numpy.png\" alt=\"Drawing\" style=\"width: 250px;\"/> </td>\n",
    "    <td> <img src=\"./images/t9_pandas.png\" alt=\"Drawing\" style=\"width: 250px;\"/> </td>\n",
    "    <td> <img src=\"./images/t9_scipy.jpg\" alt=\"Drawing\" style=\"width: 250px;\"/> </td>\n",
    "</tr></table>\n",
    "\n",
    "Pero para un análisis estadístico más complejo o para trabajar con Machine Learning (ML),  **Scikit Learn** (sklearn) es una librería muy importante, pues pose muchas herramientas útiles.\n",
    "<center>\n",
    "<img src=\"./images/t9_sklearn.png\" alt=\"Drawing\" style=\"width: 250px;\"/>\n",
    "</center>\n",
    "\n",
    "Características de Scikit Learn: \n",
    "\n",
    "- Librería de Machine Learning para lenguaje Python\n",
    "- Gratuita\n",
    "- Mayoría de algoritmos de regresión, clasificación y clustering que se conocen\n",
    "- Diseñada para trabajar con las librerías numéricas, científicas y de datos (Numpy, Scipy y Pandas)\n",
    "- Bien documentada con gran cantidad de ejemplos\n",
    "- Algoritmos que abarcan el amplio proceso de trabajo con ML\n",
    "\n",
    "\n",
    "\n",
    "\n",
    "![ML_pipeline](./images/t9_pipeline.JPG)\n",
    "\n",
    "\n",
    "\n"
   ]
  },
  {
   "cell_type": "markdown",
   "id": "92de1cc8-688c-4143-878a-ff2fe1d1e44d",
   "metadata": {},
   "source": [
    "## Sklearn Preprocessing\n"
   ]
  },
  {
   "cell_type": "markdown",
   "id": "4b63527a-8e5a-4620-af7f-d5db4732c8de",
   "metadata": {},
   "source": [
    "Aunque ya hemos visto como limpiar y preprocesar un dataset usando pandas, también existe la posibilidad de usar funciones de la librería sklearn. A continuación se mencionan las más útiles:\n",
    "\n",
    "<ins>**Estandarización**</ins>\n",
    "\n",
    "La estandarización de los datasets es un requisito fundamental que exigen muchos algoritmos de machine learning que se implementan usando sklearn, pues si las variables individuales no se parecen a una distribución normal no funcionarán correctamente.\n",
    "\n",
    "Para ello el módulo preprocessing de la librería sklearn contiene la clase `StandardScaler` aplicable a datos dados en la forma *array*. \n",
    "Esta función transforma los datos de manera que su distribución tenga un valor medio 0 y una desviación estándar de 1\n"
   ]
  },
  {
   "cell_type": "code",
   "execution_count": 54,
   "id": "8d0f7e8d-7692-467b-8f9e-9383d97158b4",
   "metadata": {},
   "outputs": [
    {
     "data": {
      "text/plain": [
       "array([[ 0.        , -1.22474487,  1.33630621],\n",
       "       [ 1.22474487,  0.        , -0.26726124],\n",
       "       [-1.22474487,  1.22474487, -1.06904497]])"
      ]
     },
     "execution_count": 54,
     "metadata": {},
     "output_type": "execute_result"
    }
   ],
   "source": [
    "from sklearn import preprocessing\n",
    "import numpy as np\n",
    "X_train = np.array([[ 1., -1.,  2.],\n",
    "                    [ 2.,  0.,  0.],\n",
    "                    [ 0.,  1., -1.]])\n",
    "scaler = preprocessing.StandardScaler().fit(X_train)\n",
    "scaler.mean_\n",
    "scaler.scale_\n",
    "X_scaled = scaler.transform(X_train)\n",
    "X_scaled"
   ]
  },
  {
   "cell_type": "markdown",
   "id": "249578d3-62b6-4f25-a3dd-2a94d1a9f612",
   "metadata": {},
   "source": [
    "<ins>**Scaling**</ins>\n",
    "\n",
    "Una estandarización alternativa sería ajustar las variables para que su rango vaya del mínimo al máximo, siendo estos 0 y 1. "
   ]
  },
  {
   "cell_type": "code",
   "execution_count": 55,
   "id": "03069653-2e8b-4830-b229-037bf91feda3",
   "metadata": {},
   "outputs": [
    {
     "data": {
      "text/plain": [
       "array([[0.5       , 0.        , 1.        ],\n",
       "       [1.        , 0.5       , 0.33333333],\n",
       "       [0.        , 1.        , 0.        ]])"
      ]
     },
     "execution_count": 55,
     "metadata": {},
     "output_type": "execute_result"
    }
   ],
   "source": [
    "X_train = np.array([[ 1., -1.,  2.],\n",
    "                    [ 2.,  0.,  0.],\n",
    "                    [ 0.,  1., -1.]])\n",
    "\n",
    "min_max_scaler = preprocessing.MinMaxScaler()\n",
    "X_train_minmax = min_max_scaler.fit_transform(X_train)\n",
    "X_train_minmax ## Hace el ajuste por columnas."
   ]
  },
  {
   "cell_type": "markdown",
   "id": "6a6d49f5-facf-4bfd-9b30-9d0f5c20a026",
   "metadata": {},
   "source": [
    "<ins>**Normalización**</ins>\n",
    "\n",
    "La normalización es el proceso de ajustar los valores para que cada elemento (fila en el ejemplo siguiente) tenga una norma igual a 1 (puede ser norma l1, l2, o max)).\n",
    "\n",
    "Lo hacemos con la función `normalize` del módulo preprocessing. En este ejemplo usamos norma l2 (euclídea).  "
   ]
  },
  {
   "cell_type": "code",
   "execution_count": 56,
   "id": "02a932da-7b37-43db-aba2-ce4e9f776e05",
   "metadata": {},
   "outputs": [
    {
     "data": {
      "text/plain": [
       "array([[ 0.40824829, -0.40824829,  0.81649658],\n",
       "       [ 1.        ,  0.        ,  0.        ],\n",
       "       [ 0.        ,  0.70710678, -0.70710678]])"
      ]
     },
     "execution_count": 56,
     "metadata": {},
     "output_type": "execute_result"
    }
   ],
   "source": [
    "X = [[ 1., -1.,  2.],\n",
    "     [ 2.,  0.,  0.],\n",
    "     [ 0.,  1., -1.]]\n",
    "X_normalized = preprocessing.normalize(X, norm='l2')\n",
    "\n",
    "X_normalized ## Por fila\n"
   ]
  },
  {
   "cell_type": "markdown",
   "id": "be068b21-a763-4c9a-8fe5-d20f68969719",
   "metadata": {},
   "source": [
    "<ins>**Conversión de variables categóricas a numéricas**</ins>\n",
    "\n",
    "\n",
    "Para convertir variables categóricas a números enteros, podemos usar **OrdinalEncoder**. Este estimador transforma cada variable categórica en una nueva variable de enteros (0 a n - 1)."
   ]
  },
  {
   "cell_type": "code",
   "execution_count": 57,
   "id": "79fb7e18-8259-4f88-bc01-73aecb26ada0",
   "metadata": {},
   "outputs": [
    {
     "name": "stdout",
     "output_type": "stream",
     "text": [
      "categories: [array(['female', 'male'], dtype=object), array(['from Europe', 'from US'], dtype=object), array(['uses Firefox', 'uses Safari'], dtype=object)]\n"
     ]
    }
   ],
   "source": [
    "enc = preprocessing.OrdinalEncoder()\n",
    "X = [['male', 'from US', 'uses Safari'], ['female', 'from Europe', 'uses Firefox']]\n",
    "enc.fit(X)\n",
    "print('categories:', enc.categories_)"
   ]
  },
  {
   "cell_type": "code",
   "execution_count": 58,
   "id": "f5830312-e64c-4d85-951e-d8e187a20843",
   "metadata": {},
   "outputs": [
    {
     "data": {
      "text/plain": [
       "array([[0., 1., 1.]])"
      ]
     },
     "execution_count": 58,
     "metadata": {},
     "output_type": "execute_result"
    }
   ],
   "source": [
    "enc.transform([['female', 'from US', 'uses Safari']])"
   ]
  },
  {
   "cell_type": "markdown",
   "id": "b73e3ec1-e800-4168-bf6e-342ddf5b1f0e",
   "metadata": {},
   "source": [
    "También podemos usar la transformación siguiendo el método **OneHot Encoder**\n",
    "\n"
   ]
  },
  {
   "cell_type": "code",
   "execution_count": 59,
   "id": "07cfb384-5a0c-4033-a8cf-1804420f1b77",
   "metadata": {},
   "outputs": [
    {
     "name": "stdout",
     "output_type": "stream",
     "text": [
      "categories: [array(['female', 'male'], dtype=object), array(['from Europe', 'from US'], dtype=object), array(['uses Firefox', 'uses Safari'], dtype=object)]\n"
     ]
    }
   ],
   "source": [
    "enc = preprocessing.OneHotEncoder()\n",
    "X = [['male', 'from US', 'uses Safari'], ['female', 'from Europe', 'uses Firefox']]\n",
    "enc.fit(X)\n",
    "print('categories:', enc.categories_)"
   ]
  },
  {
   "cell_type": "code",
   "execution_count": 60,
   "id": "91cbbe27-7267-4adf-921e-198d68d18ffb",
   "metadata": {},
   "outputs": [
    {
     "data": {
      "text/plain": [
       "array([[1., 0., 0., 1., 0., 1.],\n",
       "       [0., 1., 1., 0., 0., 1.]])"
      ]
     },
     "execution_count": 60,
     "metadata": {},
     "output_type": "execute_result"
    }
   ],
   "source": [
    "enc.transform([['female', 'from US', 'uses Safari'],\n",
    "               ['male', 'from Europe', 'uses Safari']]).toarray()"
   ]
  },
  {
   "cell_type": "markdown",
   "id": "a1689068-51d6-480b-9691-08f882d59e00",
   "metadata": {},
   "source": [
    "<ins>**Discretización**</ins>\n",
    "\n",
    "La discretización (también conocida como agrupamiento) proporciona una forma de dividir variables continuas en valores discretos.\n",
    "`KBinsDiscretizer` discretiza variables en k grupos:\n",
    "\n"
   ]
  },
  {
   "cell_type": "code",
   "execution_count": 61,
   "id": "08f36e98-93aa-4c2a-bd30-4c38ba4900cd",
   "metadata": {},
   "outputs": [
    {
     "data": {
      "text/plain": [
       "array([[0., 1., 1.],\n",
       "       [1., 1., 1.],\n",
       "       [2., 0., 0.]])"
      ]
     },
     "execution_count": 61,
     "metadata": {},
     "output_type": "execute_result"
    }
   ],
   "source": [
    "X = np.array([[ -3., 5., 15 ],\n",
    "              [  0., 6., 14 ],\n",
    "              [  6., 3., 11 ]])\n",
    "est = preprocessing.KBinsDiscretizer(n_bins=[3, 2, 2], encode='ordinal').fit(X) #Por columna\n",
    "est.transform(X)                      \n"
   ]
  },
  {
   "cell_type": "markdown",
   "id": "2ac5b897-b1a9-4abc-a398-87adb991620e",
   "metadata": {},
   "source": [
    "### Sklearn Pipeline"
   ]
  },
  {
   "cell_type": "markdown",
   "id": "3e5bb427-dea2-4e98-a25e-79fd9ae9cd51",
   "metadata": {},
   "source": [
    "En aprendizaje automático la creación de un modelo es un proceso complejo que requiere llevar a cabo múltiples pasos. Siendo la preparación de los datos uno de los que más tiempo requiere. Tras la obtención de un conjunto de datos es necesario aplicarle a este diferentes operaciones antes de poder utilizar un estimador.\n",
    "Por lo que su automatización favorecería el aumento considerable de la productividad. La librería scikit learn permite con una función encadenar las transformaciones que se van a realizar a los datos en lo que se llaman rutinas de trabajo o *pipelines*. Las tuberías se pueden utilizar posteriormente como si fuesen un estimador más. A continuación tenemos un ejemplo:\n"
   ]
  },
  {
   "cell_type": "code",
   "execution_count": 62,
   "id": "e53eadbf-e119-42d2-b046-f9a6b3d1cab8",
   "metadata": {},
   "outputs": [
    {
     "data": {
      "text/plain": [
       "0.96"
      ]
     },
     "execution_count": 62,
     "metadata": {},
     "output_type": "execute_result"
    }
   ],
   "source": [
    "from sklearn.datasets import make_classification\n",
    "from sklearn.linear_model import LogisticRegression\n",
    "from sklearn.model_selection import train_test_split\n",
    "from sklearn.pipeline import make_pipeline\n",
    "from sklearn.preprocessing import StandardScaler\n",
    "\n",
    "X, y = make_classification(random_state=42)\n",
    "X_train, X_test, y_train, y_test = train_test_split(X, y, random_state=42)\n",
    "\n",
    "pipe = make_pipeline(StandardScaler(), LogisticRegression())# Se define el pipeline\n",
    "pipe.fit(X_train, y_train)  # apply scaling on training data\n",
    "\n",
    "pipe.score(X_test, y_test)  # apply scaling on testing data, without leaking training data."
   ]
  },
  {
   "cell_type": "markdown",
   "id": "8db4760a-caa6-47dd-91c9-a82d53c6623b",
   "metadata": {
    "tags": []
   },
   "source": [
    "## Distribuciones de Probabilidad"
   ]
  },
  {
   "cell_type": "markdown",
   "id": "823dc229-ae4d-4071-adb3-b048149e62de",
   "metadata": {},
   "source": [
    "Cuando trabajamos con variables aleatorias (aquellas en las que el valor es resultado de un evento aleatorio) podemos calcular las  distribuciones de probabilidad que describen la posibilidad de que un evento ocurra, que a veces es más interesante que saber cuál es el resultado en sí. \n",
    "La distribución de probabilidad es una función que asigna a cada suceso definido sobre la variable aleatoria la probabilidad de que dicho suceso ocurra.\n",
    "\n",
    "Hay dos tipos de variables aleatorias y dependiendo de él tendremos unos tipos de distribuciones u otros.\n",
    "\n",
    "- Las *variables aleatorias discretas* son aquellas que solo toman ciertos valores (frecuentemente enteros) y que resultan principalmente del conteo realizado. Algunas distribuciones para variables discretas son:\n",
    "    - Distribución binomial\n",
    "    - Distribución de Poisson\n",
    "    - Distribución hipergeométrica \n",
    "\n",
    "\n",
    "- Las *variables aleatorias continuas* son aquellas que resultan generalmente de la medición y pueden tomar cualquier valor dentro de un intervalo dado. La distribución más común de las variables continuas es:\n",
    "    - Distribución normal o *gaussiana*\n",
    "\n",
    "![Choice distribution](images/t9_distributions_choice.png)\n",
    "*Una cosa que tenemos que saber es que las probabilidades en una distribución siempre suman 1.*"
   ]
  },
  {
   "cell_type": "markdown",
   "id": "46f1d599-3b7d-4fc8-a095-e4c850bac480",
   "metadata": {},
   "source": [
    "### Representación distribuciones"
   ]
  },
  {
   "cell_type": "markdown",
   "id": "c4f2589a-3baf-41be-9216-9030e80a22e1",
   "metadata": {},
   "source": [
    "Una de las mejores maneras de describir una variable es representar los valores que aparecen en el conjunto de datos y el número de veces que aparece cada valor. La representación más común de una distribución es un **histograma**, que es un gráfico que muestra la frecuencia de los valores que caen en cada bin. Ya hemos visto en el capítulo 7 cómo hacerlo con la librería *seaborn* pero también podemos usar la librería *matplotlib*.\n",
    "\n"
   ]
  },
  {
   "cell_type": "code",
   "execution_count": 63,
   "id": "1f65229d-bac7-47ed-8425-9c03ab3c9d04",
   "metadata": {},
   "outputs": [],
   "source": [
    "import pandas as pd\n",
    "import numpy as np\n",
    "import seaborn as sns\n",
    "import matplotlib as mpl\n",
    "from matplotlib import pyplot as plt\n",
    "from scipy import stats\n",
    "from sklearn import linear_model\n",
    "from sklearn import metrics\n",
    "from sklearn.model_selection import train_test_split\n",
    "from sklearn.model_selection import cross_val_score\n",
    "from sklearn.model_selection import KFold"
   ]
  },
  {
   "cell_type": "code",
   "execution_count": 64,
   "id": "9a69694c-a062-456e-9740-000238ae3afb",
   "metadata": {},
   "outputs": [
    {
     "data": {
      "image/png": "[encoded data removed]",
      "text/plain": [
       "<Figure size 432x288 with 1 Axes>"
      ]
     },
     "metadata": {},
     "output_type": "display_data"
    }
   ],
   "source": [
    "# Graficando histograma\n",
    "mu, sigma = 0, 0.2 # media y desvio estandar\n",
    "datos = np.random.normal(mu, sigma, 1000) #creando muestra de datos (distribución normal)\n",
    "\n",
    "# histograma de distribución normal.\n",
    "cuenta, cajas, ignorar = plt.hist(datos, 20)\n",
    "plt.ylabel('frequencia')\n",
    "plt.xlabel('valores')\n",
    "plt.title('Histograma')\n",
    "plt.show()"
   ]
  },
  {
   "cell_type": "markdown",
   "id": "74f07583-550a-4ca6-be69-7d1d6fdf6c78",
   "metadata": {},
   "source": [
    "Otra forma de representar a las distribuciones discretas es utilizando su **Función de Masa de Probabilidad o PMF** en inglés, la cual relaciona cada valor con su probabilidad en lugar de su frecuencia como vimos anteriormente. Esta función es normalizada de forma tal que el valor total de probabilidad sea 1. La ventaja que nos ofrece utilizar la FMP es que podemos comparar dos distribuciones sin necesidad de ser confundidos por las diferencias en el tamaño de las muestras. También debemos tener en cuenta que FMP funciona bien si el número de valores es pequeño;"
   ]
  },
  {
   "cell_type": "code",
   "execution_count": 65,
   "id": "09111269-08ee-43f0-9dce-d49581c73901",
   "metadata": {},
   "outputs": [
    {
     "data": {
      "image/png": "[encoded data removed]",
      "text/plain": [
       "<Figure size 432x288 with 1 Axes>"
      ]
     },
     "metadata": {},
     "output_type": "display_data"
    }
   ],
   "source": [
    "# Graficando FMP\n",
    "n, p = 30, 0.4 # parametros de forma de la distribución binomial\n",
    "n_1, p_1 = 20, 0.3 # parametros de forma de la distribución binomial\n",
    "x = np.arange(stats.binom.ppf(0.01, n, p),\n",
    "              stats.binom.ppf(0.99, n, p))\n",
    "x_1 = np.arange(stats.binom.ppf(0.01, n_1, p_1),\n",
    "              stats.binom.ppf(0.99, n_1, p_1))\n",
    "fmp = stats.binom.pmf(x, n, p) # Función de Masa de Probabilidad\n",
    "fmp_1 = stats.binom.pmf(x_1, n_1, p_1) # Función de Masa de Probabilidad\n",
    "plt.plot(x, fmp, '--')\n",
    "plt.plot(x_1, fmp_1)\n",
    "plt.vlines(x, 0, fmp, colors='b', lw=5, alpha=0.5)\n",
    "plt.vlines(x_1, 0, fmp_1, colors='g', lw=5, alpha=0.5)\n",
    "plt.title('Función de Masa de Probabilidad')\n",
    "plt.ylabel('probabilidad')\n",
    "plt.xlabel('valores')\n",
    "plt.show()"
   ]
  },
  {
   "cell_type": "markdown",
   "id": "23fe8b62-332a-4812-a0e1-805e20dac4d2",
   "metadata": {},
   "source": [
    "El equivalente a la PMF para distribuciones continuas es la **Función de Densidad de Probabilidad o PDF**. Esta función es la derivada de la Función de Distribución Acumulada. Por ejemplo, para la distribución normal que graficamos anteriormente, su PDF es la siguiente"
   ]
  },
  {
   "cell_type": "code",
   "execution_count": 66,
   "id": "70a299df-d4c8-43d6-9aed-b4af06c0a130",
   "metadata": {},
   "outputs": [
    {
     "data": {
      "image/png": "[encoded data removed]",
      "text/plain": [
       "<Figure size 432x288 with 1 Axes>"
      ]
     },
     "metadata": {},
     "output_type": "display_data"
    }
   ],
   "source": [
    "# Graficando Función de Densidad de Probibilidad con Python\n",
    "FDP_normal = stats.norm(10, 1.2).pdf(x_1) # FDP\n",
    "plt.plot(x_1, FDP_normal, label='FDP nomal')\n",
    "plt.title('Función de Densidad de Probabilidad')\n",
    "plt.ylabel('probabilidad')\n",
    "plt.xlabel('valores')\n",
    "plt.show()"
   ]
  },
  {
   "cell_type": "markdown",
   "id": "2d50f3c3-52cb-4fb1-b446-a2b59cc27ea5",
   "metadata": {
    "tags": []
   },
   "source": [
    "Si queremos evitar los problemas que se generan con FMP cuando el número de valores es muy grande, podemos recurrir a utilizar la **Función de Distribución Acumulada o CDF**, para representar a nuestras distribuciones, tanto discretas como continuas. Esta función relaciona los valores con su correspondiente percentil; es decir que va a describir la probabilidad de que una variable aleatoria X sujeta a cierta ley de distribución de probabilidad se sitúe en la zona de valores menores o iguales a x."
   ]
  },
  {
   "cell_type": "code",
   "execution_count": 67,
   "id": "ac82b2fc-37f4-4336-99e9-fc14d461b4b3",
   "metadata": {},
   "outputs": [
    {
     "data": {
      "image/png": "[encoded data removed]",
      "text/plain": [
       "<Figure size 432x288 with 1 Axes>"
      ]
     },
     "metadata": {},
     "output_type": "display_data"
    }
   ],
   "source": [
    "# Graficando Función de Distribución Acumulada con Python\n",
    "x_1 = np.linspace(stats.norm(10, 1.2).ppf(0.01),\n",
    "                  stats.norm(10, 1.2).ppf(0.99), 100)\n",
    "fda_binom = stats.binom.cdf(x, n, p) # Función de Distribución Acumulada\n",
    "fda_normal = stats.norm(10, 1.2).cdf(x_1) # Función de Distribución Acumulada\n",
    "plt.plot(x, fda_binom, '--', label='FDA binomial')\n",
    "plt.plot(x_1, fda_normal, label='FDA nomal')\n",
    "plt.title('Función de Distribución Acumulada')\n",
    "plt.ylabel('probabilidad')\n",
    "plt.xlabel('valores')\n",
    "plt.legend(loc=4)\n",
    "plt.show()"
   ]
  },
  {
   "cell_type": "markdown",
   "id": "c8e6d03c-d78f-4562-8f1a-e72524e35813",
   "metadata": {
    "tags": []
   },
   "source": [
    "###  Tipos"
   ]
  },
  {
   "cell_type": "markdown",
   "id": "13031e68-8209-48d3-8ed3-f0e712bdb93e",
   "metadata": {},
   "source": [
    "**Distribución binomial:**\n",
    "\n",
    "Distribución de probabilidad discreta que cuenta el número de éxitos en una secuencia de $n$ ensayos de Bernoulli independientes entre sí con una probabilidad fija $p$ de ocurrencia de éxito entre los ensayos. Un experimento de Bernoulli se caracteriza por ser dicotómico, esto es, solo dos resultados son posibles, a uno de estos se le denomina “éxito” y tiene una probabilidad de ocurrencia $p$ y al otro se le denomina “fracaso” y tiene una probabilidad $q=1-p$\n",
    "    \n",
    "<ins>Función de probabilidad</ins>\n",
    "    \n",
    "$$ P \\left[\\begin{array}{r}X=x\\end{array}\\right]= \\left(\\begin{array}{rr}n \\\\ x \\end{array}\\right)p^x \\left(1-p\\right)^{n-x} $$\n",
    "    \n",
    "<ins>Función de distribución acumulada</ins>\n",
    "\n",
    "$$ P \\left[\\begin{array}{r}X\\leq x\\end{array}\\right]=\\sum_{k=0}^{x} \\left(\\begin{array}{rr}n \\\\ k \\end{array}\\right)p^k \\left(1-p\\right)^{n-k} $$\n",
    "\n",
    "En python podemos hallar la distribución binomial con la función [`scipy.stats.binom`](https://docs.scipy.org/doc/scipy/reference/generated/scipy.stats.binom.html)"
   ]
  },
  {
   "cell_type": "code",
   "execution_count": 68,
   "id": "f4c5daf2-3bca-480f-ba62-b196178d1d66",
   "metadata": {},
   "outputs": [
    {
     "data": {
      "image/png": "[encoded data removed]",
      "text/plain": [
       "<Figure size 432x288 with 1 Axes>"
      ]
     },
     "metadata": {},
     "output_type": "display_data"
    }
   ],
   "source": [
    "# Graficando Binomial\n",
    "N, p = 30, 0.4 # parametros de forma \n",
    "binomial = stats.binom(N, p) # Distribución\n",
    "x = np.arange(binomial.ppf(0.01),\n",
    "              binomial.ppf(0.99))\n",
    "fmp = binomial.pmf(x) # Función de Masa de Probabilidad\n",
    "plt.plot(x, fmp, '--')\n",
    "plt.vlines(x, 0, fmp, colors='b', lw=5, alpha=0.5)\n",
    "plt.title('Distribución Binomial')\n",
    "plt.ylabel('probabilidad')\n",
    "plt.xlabel('valores')\n",
    "plt.show()\n"
   ]
  },
  {
   "cell_type": "markdown",
   "id": "4360f580-6c44-4458-81f4-d480639069e4",
   "metadata": {},
   "source": [
    "**Distribución Poisson:**\n",
    "\n",
    "La Distribución Poisson describe la probabilidad de encontrar exactamente r eventos en un lapso de tiempo si los acontecimientos se producen de forma independiente a una velocidad constante μ. Es una de las distribuciones más utilizadas en estadística con varias aplicaciones; como por ejemplo describir el número de fallos en un lote de materiales o la cantidad de llegadas por hora a un centro de servicios\n",
    "    \n",
    "<ins>Función de probabilidad</ins>\n",
    "    \n",
    "$$ P \\left(r;\\mu\\right)= \\frac{\\mu^r e^{-\\mu}}{r!} $$\n",
    "\n",
    "En dónde r es un entero (r≥0) y μ es un número real positivo.\n",
    "\n",
    "En python podemos hallar la distribución de poisson con la función [`scipy.stats.poisson`](https://docs.scipy.org/doc/scipy/reference/generated/scipy.stats.poisson.html)"
   ]
  },
  {
   "cell_type": "code",
   "execution_count": 69,
   "id": "a00ddfd2-7736-4203-83e9-26379b50be1f",
   "metadata": {},
   "outputs": [
    {
     "data": {
      "image/png": "[encoded data removed]",
      "text/plain": [
       "<Figure size 432x288 with 1 Axes>"
      ]
     },
     "metadata": {},
     "output_type": "display_data"
    },
    {
     "data": {
      "image/png": "[encoded data removed]",
      "text/plain": [
       "<Figure size 432x288 with 1 Axes>"
      ]
     },
     "metadata": {},
     "output_type": "display_data"
    }
   ],
   "source": [
    "# Graficando Poisson\n",
    "mu =  3.6 # parametro de forma \n",
    "poisson = stats.poisson(mu) # Distribución\n",
    "x = np.arange(poisson.ppf(0.01),\n",
    "              poisson.ppf(0.99))\n",
    "fmp = poisson.pmf(x) # Función de Masa de Probabilidad\n",
    "plt.plot(x, fmp, '--')\n",
    "plt.vlines(x, 0, fmp, colors='b', lw=5, alpha=0.5)\n",
    "plt.title('Distribución Poisson')\n",
    "plt.ylabel('probabilidad')\n",
    "plt.xlabel('valores')\n",
    "plt.show()\n",
    "\n",
    "# histograma\n",
    "aleatorios = poisson.rvs(1000)  # genera aleatorios\n",
    "cuenta, cajas, ignorar = plt.hist(aleatorios, 20)\n",
    "plt.ylabel('frequencia')\n",
    "plt.xlabel('valores')\n",
    "plt.title('Histograma Poisson')\n",
    "plt.show()\n"
   ]
  },
  {
   "cell_type": "markdown",
   "id": "c3717c77-a6f0-4a66-8e45-cfa6dbaf0674",
   "metadata": {},
   "source": [
    "**Distribución Hipergeométrica:**\n",
    "\n",
    "La Distribución Hipergeométrica describe experimentos en donde se seleccionan los elementos al azar sin reemplazo (se evita seleccionar el mismo elemento más de una vez). Más precisamente, supongamos que tenemos N elementos de los cuales M tienen un cierto atributo (y N−M no tiene). Si escogemos n elementos al azar sin reemplazo, p(r) es la probabilidad de que exactamente r de los elementos seleccionados provienen del grupo con el atributo.\n",
    "    \n",
    "<ins>Función de probabilidad</ins>\n",
    "    \n",
    "$$ P \\left(r;n,N,M\\right)= \\frac{\\left(\\begin{array}{rr} M \\\\ r \\end{array}\\right) \\left(\\begin{array}{rr} N-M \\\\ n-r \\end{array}\\right)}{\\left(\\begin{array}{rr}N \\\\ n \\end{array}\\right)} $$\n",
    "\n",
    "En dónde el valor de r esta limitado por max(0,n−N+M) y min(n,M) inclusive; y los parámetros n (1≤n≤N), N (N≥1) y M (M≥1) son todos números enteros.\n",
    "\n",
    "En python podemos hallar la distribución hipergeométrica con la función [`scipy.stats.hypergeom`](https://docs.scipy.org/doc/scipy/reference/generated/scipy.stats.hypergeom.html)"
   ]
  },
  {
   "cell_type": "code",
   "execution_count": 70,
   "id": "67b2cc85-cab8-45d6-9e98-acb3109497b9",
   "metadata": {},
   "outputs": [
    {
     "data": {
      "image/png": "[encoded data removed]",
      "text/plain": [
       "<Figure size 432x288 with 1 Axes>"
      ]
     },
     "metadata": {},
     "output_type": "display_data"
    },
    {
     "data": {
      "image/png": "[encoded data removed]",
      "text/plain": [
       "<Figure size 432x288 with 1 Axes>"
      ]
     },
     "metadata": {},
     "output_type": "display_data"
    }
   ],
   "source": [
    "\n",
    "# Graficando Hipergeométrica\n",
    "M, n, N = 30, 10, 12 # parametros de forma \n",
    "hipergeometrica = stats.hypergeom(M, n, N) # Distribución\n",
    "x = np.arange(0, n+1)\n",
    "fmp = hipergeometrica.pmf(x) # Función de Masa de Probabilidad\n",
    "plt.plot(x, fmp, '--')\n",
    "plt.vlines(x, 0, fmp, colors='b', lw=5, alpha=0.5)\n",
    "plt.title('Distribución Hipergeométrica')\n",
    "plt.ylabel('probabilidad')\n",
    "plt.xlabel('valores')\n",
    "plt.show()\n",
    "\n",
    "# histograma\n",
    "aleatorios = hipergeometrica.rvs(1000)  # genera aleatorios\n",
    "cuenta, cajas, ignorar = plt.hist(aleatorios, 20)\n",
    "plt.ylabel('frequencia')\n",
    "plt.xlabel('valores')\n",
    "plt.title('Histograma Hipergeométrica')\n",
    "plt.show()"
   ]
  },
  {
   "cell_type": "markdown",
   "id": "dbf158fb-d02e-44cd-9ce4-7448c4e7ac59",
   "metadata": {},
   "source": [
    "**Distribución Normal o Gaussiana:**\n",
    "Es la distribución más utilizada en estadística\n",
    "Algunos ejemplos de variables asociadas a fenómenos naturales que siguen el modelo de la Distribución Normal son:\n",
    "\n",
    "- Características morfológicas de individuos, como la estatura;\n",
    "- Características sociológicas, como el consumo de cierto producto por un mismo grupo de individuos;\n",
    "- Características psicológicas, como el cociente intelectual;\n",
    "- Nivel de ruido en telecomunicaciones;\n",
    "\n",
    "<ins>Función de probabilidad</ins>\n",
    "    \n",
    "$$ P \\left(r;\\mu ,\\sigma ^2\\right)= {\\frac{1}{\\sigma \\sqrt{2\\pi}}} e^{\\frac{-1}{2} \\left(\\frac{x-\\mu}{\\sigma}\\right) ^2} $$\n",
    "\n",
    "En dónde $\\mu$ es el parámetro de ubicación, y va a ser igual a la media aritmética y $\\sigma ^2$ es el desvío estándar. \n",
    "\n",
    "En python podemos hallar la distribución gaussiana con la función [`scipy.stats.norm`](https://docs.scipy.org/doc/scipy/reference/generated/scipy.stats.norm.html)"
   ]
  },
  {
   "cell_type": "code",
   "execution_count": 71,
   "id": "20082d90-f7a8-4900-a14e-e0eae2f53d8c",
   "metadata": {},
   "outputs": [
    {
     "data": {
      "image/png": "[encoded data removed]",
      "text/plain": [
       "<Figure size 432x288 with 1 Axes>"
      ]
     },
     "metadata": {},
     "output_type": "display_data"
    },
    {
     "data": {
      "image/png": "[encoded data removed]",
      "text/plain": [
       "<Figure size 432x288 with 1 Axes>"
      ]
     },
     "metadata": {},
     "output_type": "display_data"
    }
   ],
   "source": [
    "# Graficando Normal\n",
    "mu, sigma = 0, 0.2 # media y desvio estandar\n",
    "normal = stats.norm(mu, sigma)\n",
    "x = np.linspace(normal.ppf(0.01),\n",
    "                normal.ppf(0.99), 100)\n",
    "fp = normal.pdf(x) # Función de Probabilidad\n",
    "plt.plot(x, fp)\n",
    "plt.title('Distribución Normal')\n",
    "plt.ylabel('probabilidad')\n",
    "plt.xlabel('valores')\n",
    "plt.show()\n",
    "\n",
    "\n",
    "# histograma\n",
    "aleatorios = normal.rvs(1000) # genera aleatorios\n",
    "cuenta, cajas, ignorar = plt.hist(aleatorios, 20)\n",
    "plt.ylabel('frequencia')\n",
    "plt.xlabel('valores')\n",
    "plt.title('Histograma Normal')\n",
    "plt.show()"
   ]
  }
 ],
 "metadata": {
  "kernelspec": {
   "display_name": "Python 3 (ipykernel)",
   "language": "python",
   "name": "python3"
  },
  "language_info": {
   "codemirror_mode": {
    "name": "ipython",
    "version": 3
   },
   "file_extension": ".py",
   "mimetype": "text/x-python",
   "name": "python",
   "nbconvert_exporter": "python",
   "pygments_lexer": "ipython3",
   "version": "3.7.11"
  }
 },
 "nbformat": 4,
 "nbformat_minor": 5
}
