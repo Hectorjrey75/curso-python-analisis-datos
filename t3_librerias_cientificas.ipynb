{
 "cells": [
  {
   "cell_type": "markdown",
   "metadata": {
    "slideshow": {
     "slide_type": "slide"
    }
   },
   "source": [
    "<font size=6>\n",
    "\n",
    "<b>Curso de Análisis de Datos con Python</b>\n",
    "</font>\n",
    "\n",
    "<font size=4>\n",
    "    \n",
    "Curso de formación interna, CIEMAT. <br/>\n",
    "Madrid, Octubre de 2021\n",
    "\n",
    "Antonio Delgado Peris y Cristina Labajo Villaverde\n",
    "</font>\n",
    "\n",
    "https://github.com/andelpe/curso-python-analisis-datos\n",
    "\n",
    "<br/>"
   ]
  },
  {
   "cell_type": "markdown",
   "metadata": {},
   "source": [
    "# Tema 3 - Librerías científicas y técnicas para Python"
   ]
  },
  {
   "cell_type": "markdown",
   "metadata": {},
   "source": [
    "## Objetivos\n",
    "\n",
    "- Conocer algunos módulos de la librería estándar\n",
    "- Introducir el ecosistema de librerías científicas, técnicas y matemáticas de Python"
   ]
  },
  {
   "cell_type": "markdown",
   "metadata": {},
   "source": [
    "## La librería estándar\n",
    "\n",
    "Uno de los eslóganes de Python es _batteries included_. Se refiere a la cantidad de funcionalidad disponible en la instalación Python básica, sin necesidad de recurrir a paquetes externos.\n",
    "\n",
    "En esta sección revisamos brevemente algunos de los módulos disponibles. Para muchas más información: https://docs.python.org/3/library/"
   ]
  },
  {
   "cell_type": "markdown",
   "metadata": {},
   "source": [
    "### Interacción con el intérprete de Python: `sys`\n",
    "\n",
    "Ofrece tanto información, como capacidad de manipular diversos aspectos del propio entorno de Python.\n",
    "\n",
    "- `sys.argv`: Lista con los argumentos pasados al programa en ejecución.\n",
    "- `sys.version`: String con la versión actual de Python.\n",
    "- `sys.stdin/out/err`: Objetos fichero usados por el intérprete para entrada, salida y error.\n",
    "- `sys.exit`: Función para acabar el programa.\n"
   ]
  },
  {
   "cell_type": "markdown",
   "metadata": {},
   "source": [
    "### Interacción con el sistema operativo: `os`\n",
    "\n",
    "Interfaz _portable_ para funcionalidad que depende del sistema operativo.\n",
    "\n",
    "Contiene funcionalidad muy variada, a veces de muy bajo nivel.\n",
    "\n",
    "- `os.environ`: diccionario con variables de entorno (modificable)\n",
    "- `os.getuid`, `os.getgid`, `os.getpid`...: Obtener UID, GID, process ID, etc. (Unix)\n",
    "- `os.uname`: información sobre el sistema operativo \n",
    "- `os.getcwd`, `os.chdir`, `os.mkdir`, `os.remove`, `os.stat`...: operaciones sobre el sistema de ficheros\n",
    "- `os.exec`, `os.fork`, `os.kill`... : gestión de procesos\n",
    "\n",
    "Para algunas de estas operaciones es más conveniente utilizar módulos más específicos, o de más alto nivel.\n",
    "\n",
    "### Operaciones sobre el sistema de ficheros\n",
    "\n",
    "- Para manipulación de _paths_, borrado, creación de directorios, etc.: `pathlib` (moderno), o `os.path` (clásico)\n",
    "- Expansión de _wildcards_ de nombres de fichero (Unix _globs_): `glob`\n",
    "- Para operaciones de copia (y otros) de alto nivel: `shutil`\n",
    "- Para ficheros y directorios temporales (de usar y tirar): `tempfile`\n",
    "\n",
    "### Gestión de procesos\n",
    "\n",
    "- `threading`: interfaz de alto nivel para gestión de _threads_.\n",
    "\n",
    "  - Padece el problema del _Global Interpreter Lock_, de Python: es un _lock_ global, que asegura que solo un thread se está ejecutando en Python en un momento dado (excepto en pausas por I/O). Impide mejorar el rendimiento con múltiples CPUs.\n",
    "\n",
    "  - `queue`: implementa colas multi-productor, multi-consumidor para un intercambio seguro de información entre múltiples _threads_.\n",
    "\n",
    "\n",
    "- `multiprocessing`: interfaz que imita al the `threading`, pero utiliza multi-proceso, en lugar de threads (evita el problema del GIL). Soporta Unix y Windows. Ofrece concurrencia local y remota.\n",
    "\n",
    "  - El módulo `multiprocessing.shared_memory`: facilita la asignación y gestión de memoria compartida entre varios procesos.\n",
    "\n",
    "\n",
    "- `subprocess`: Permite lanzar y gestionar subprocesos (comandos externos) desde Python.\n",
    "\n",
    "  - Para Python >= 3.5, se recomienda usar la función `run`, salvo casos complejos.\n"
   ]
  },
  {
   "cell_type": "markdown",
   "metadata": {},
   "source": [
    "### Red \n",
    "\n",
    "- `socket`: operaciones de red de bajo nivel\n",
    "- `asyncio`: soporte para entornos de entrada/salida asíncrona\n",
    "- Existen varias librerías para interacción HTTP, pero se recomienda la librería externa `requests`.\n",
    "\n",
    "### Desarrollo, depuración y perfilado\n",
    "\n",
    "- `pydoc`: generación de documentación (HTML), a partir de los docstrings\n",
    "- Depuración\n",
    "\n",
    "  - Muchos IDEs, y Jupyterlab, incluyen facilidades de depuración en sus entornos.\n",
    "  - `pdb`: _Debugger_ oficial de Python\n",
    "  \n",
    "    - Correr scripts como `python3 -m pdb myscript.py`\n",
    "    - Introducir un _break point_ con `import pdb; pdb.set_trace()`\n",
    "\n",
    "\n",
    "- `cProfile`: _Profiler_\n",
    "\n",
    "- `timeit`:  Medición de tiempos de ejecución de código/scripts\n",
    "\n",
    "```python\n",
    "$ python3 -m timeit '\"-\".join(str(n) for n in range(100))'\n",
    "10000 loops, best of 5: 30.2 usec per loop\n",
    "\n",
    ">>> import timeit\n",
    ">>> timeit.timeit('\"-\".join(str(n) for n in range(100))', number=10000)\n",
    "0.3018611848820001\n",
    " \n",
    "%timeit \"-\".join(str(n) for n in range(100))   # Jupyter line mode \n",
    "\n",
    "%%timeit ...   # Jupyter cell mode\n",
    "```\n",
    "\n",
    "\n",
    "- `unittest`: creación de tests para validación de código (_test-driven programming_)\n",
    "\n",
    "  - La librería externa `pytest` simplifica algunas tareas, y es muy popular"
   ]
  },
  {
   "cell_type": "markdown",
   "metadata": {},
   "source": [
    "### Números y matemáticas\n",
    "\n",
    "- `math`: operaciones matemáticas definidas por el estándar de C (`cmath`, para números complejos)\n",
    "- `random`: generadores de números pseudo-aleatorios para varias distribuciones\n",
    "- `statistics`: estadísticas básicas "
   ]
  },
  {
   "cell_type": "markdown",
   "metadata": {},
   "source": [
    "### Otros\n",
    "- `argparse`: procesado de argumentos y opciones por línea de comando\n",
    "  - Mi recomendación es crearse un _esqueleto_ tipo como base para futuros scripts.\n",
    "- `re`: procesado de expresiones regulares\n",
    "- `time`, `datetime`: manipulación de fechas y tiempo (medición y representación del tiempo, deltas de tiempo, etc.)"
   ]
  },
  {
   "cell_type": "markdown",
   "metadata": {
    "tags": []
   },
   "source": [
    "## La pila NumPy/Scipy\n",
    "\n",
    "Este conjunto de librerías de código abierto constituye la base numérica, matemática, y de visualización sobre la que se construye el universo matemático/científico en Python.\n",
    "\n",
    "- **NumPy**: Paquete de propósito general para procesamiento de objetos _ndarray_ (vectores y matrices), de altas prestaciones.\n",
    "\n",
    "  - Sirve de base para la mayoría de los demás paquetes matemáticos.\n",
    "  - Permite realizar operaciones matriciales eficientes (sin usar bucles explícitos) \n",
    "  - Utiliza librerías compiladas (C y Fortran), con un API Python, para conseguir mejor rendimiento.\n",
    "\n",
    "\n",
    "- **SciPy**: Construida sobre NumPy, y como base de muchas de las siguientes, ofrece múltiples utilidades paraintegración numérica, interpolación, optimización, algebra lineal, procesado de señal y estadística.\n",
    "\n",
    "  - No confundir la _librería SciPy_, con el proyecto o pila SciPy, que se refiere a todas las de esta sección.\n",
    "\n",
    "\n",
    "- **Matplotlib**: Librería de visualización (gráficos 2D) de referencia de Python.\n",
    "\n",
    "  - También sirve de base para otras librerías, como _Seaborn_ o _Pandas_.\n",
    "\n",
    "\n",
    "- **Pandas**: Manipulación de datos de manera ágil y eficiente.\n",
    "\n",
    "  - Utiliza un objeto _DataFrame_, que representa la información en columnas etiquetadas e indexadas.\n",
    "  - Ofrece funcionalidades para buscar, filtrar, ordenar, transformar o extraer información.\n",
    "\n",
    "\n",
    "- **SymPy**: Librería de matemáticas simbólicas (al estilo de _Mathematica_)\n",
    "\n",
    "\n",
    "## Gráficos\n",
    "\n",
    "- **Seaborn**: Construida sobre Matplotlib ofrece un interfaz de alto nivel, para construir, de forma sencilla, gráficos avanzados para modelos estadísticos.\n",
    "\n",
    "- **Bokeh**: Librería para visualización interactiva de gráficos en web, o en Jupyter notebooks.\n",
    "\n",
    "- **Plotly**: Gráficos interactivos para web. Es parte de un proyecto mayor **_Dash_**, un entorno para construir aplicaciones web para análisis de datos en Python (sin escribir _javascript_).\n",
    "\n",
    "- **Scikit-image**: Algoritmos para _procesado_ de imágenes (diferente propósito que los anteriores).\n",
    "\n",
    "NOTA: Veremos más detalles en el tema 6, sobre visualización.\n",
    "\n",
    "\n",
    "## Matemáticas y estadística\n",
    "\n",
    "- **Statsmodel**: Estimación de modelos estadísticos, realización de tests y exploración de datos estadísticos.\n",
    "- **PyStan**: Inferencia Bayesiana.\n",
    "- **NetworkX**: Creación, manipulación y análisis de redes y grafos.\n",
    "\n",
    "## Machine Learning\n",
    "\n",
    "- **Scikit-learn**: Librería de aprendizaje automático de propósito general, construida sobre NumPy. Ofrece múltiples algoritmos de ML, como _support vector machines_, o _random forests_, así como muchas utilidades para pre- y postprocesado de datos.\n",
    "\n",
    "- **TensorFlow** y **PyTorch**: son dos librerías para programación de redes neuronales, incluyendo optimización para GPUs, muy extendidas.\n",
    "\n",
    "  - **Keras**: Es un interfaz simplificado (de alto nivel) para el uso de TensorFlow.\n",
    "\n",
    "NOTA: ampliaremos esta información en el tema 10."
   ]
  },
  {
   "cell_type": "markdown",
   "metadata": {},
   "source": [
    "## Otros\n",
    "\n",
    "### Procesamiento del Lenguaje Natural\n",
    "\n",
    "Las siguientes librerías ofrecen funcionalidades de análisis sintáctico y semántico de textos libres: \n",
    "\n",
    "- **GenSim**\n",
    "- **SpaCy** \n",
    "- **NLTK**\n",
    "\n",
    "### Biología\n",
    "\n",
    "- **Scikit-bio**: Estructuras de datos, algoritmos y recursos educativos para bioinformática.\n",
    "- **BioPython**: Herramientas para computación biológica.\n",
    "- **PyEnsembl**: Interfaz Python a Ensembl, base de datos de genómica.\n",
    "\n",
    "### Física\n",
    "\n",
    "- Astronomía: **Astropy**, y **PyFITS**\n",
    "- Física de altas energías: \n",
    "\n",
    "  - **PyROOT**: interfaz Python a ROOT, entorno con ambición generalista, que ofrece muchas utilidades para análisis y almacenamiento de datos, estadística y visualización.\n",
    "\n",
    "  - **Scikit-HEP**: colección de librerías que pretenden trabajar con datos ROOT utilizando código exclusivamente Python (integrado con Numpy), sin usar PyROOT. Algunas son **uproot**, **awkward array**, **coffea**. \n",
    "  \n",
    "\n",
    "### Datos HDF5\n",
    "\n",
    "- **h5py**: Interfaz a datos HDF5 que trata de ofrecer toda la funcionalidad del interfaz C de HDF5 en Python, integrado con el los objetos y tipos NumPy, por lo que puede usarse en código Python de manera sencilla.\n",
    "\n",
    "- **pytables**: Otro interfaz a datos HDF5 con un interfaz a más alto nivel que `h5py`, y que ofrece funcionalidades adicionales al estilo de una base de datos (consultas complejas, indexado avanzado, optimización de computación con datos HDF5, etc.)"
   ]
  }
 ],
 "metadata": {
  "kernelspec": {
   "display_name": "Python 3 (ipykernel)",
   "language": "python",
   "name": "python3"
  },
  "language_info": {
   "codemirror_mode": {
    "name": "ipython",
    "version": 3
   },
   "file_extension": ".py",
   "mimetype": "text/x-python",
   "name": "python",
   "nbconvert_exporter": "python",
   "pygments_lexer": "ipython3",
   "version": "3.7.9"
  }
 },
 "nbformat": 4,
 "nbformat_minor": 4
}
